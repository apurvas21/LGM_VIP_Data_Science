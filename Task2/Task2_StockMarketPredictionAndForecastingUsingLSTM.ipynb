{
  "cells": [
    {
      "cell_type": "markdown",
      "metadata": {
        "id": "s3ATvEl_oTyG"
      },
      "source": [
        "Task 2: Stock Market Prediction And Forecasting Using Stacked LSTM by Apurva Saraf"
      ]
    },
    {
      "cell_type": "code",
      "execution_count": null,
      "metadata": {
        "id": "J1EynCiooTyL"
      },
      "outputs": [],
      "source": [
        "import pandas as pd\n",
        "import numpy as np\n",
        "import seaborn as sns\n",
        "import matplotlib.pyplot as plt\n",
        "%matplotlib inline"
      ]
    },
    {
      "cell_type": "code",
      "execution_count": null,
      "metadata": {
        "colab": {
          "base_uri": "https://localhost:8080/",
          "height": 206
        },
        "id": "26OIPRE_oTyO",
        "outputId": "f758b166-694a-46ba-f056-c823d30af336"
      },
      "outputs": [
        {
          "output_type": "execute_result",
          "data": {
            "text/plain": [
              "            Date   Open    High     Low    Last   Close  Total Trade Quantity  \\\n",
              "2034  2010-07-21  122.1  123.00  121.05  121.10  121.55                658666   \n",
              "2033  2010-07-22  120.3  122.00  120.25  120.75  120.90                293312   \n",
              "2032  2010-07-23  121.8  121.95  120.25  120.35  120.65                281312   \n",
              "2031  2010-07-26  120.1  121.00  117.10  117.10  117.60                658440   \n",
              "2030  2010-07-27  117.6  119.50  112.00  118.80  118.65                586100   \n",
              "\n",
              "      Turnover (Lacs)  \n",
              "2034           803.56  \n",
              "2033           355.17  \n",
              "2032           340.31  \n",
              "2031           780.01  \n",
              "2030           694.98  "
            ],
            "text/html": [
              "\n",
              "  <div id=\"df-06a464c1-e6a4-4450-902d-a750ba8baa21\">\n",
              "    <div class=\"colab-df-container\">\n",
              "      <div>\n",
              "<style scoped>\n",
              "    .dataframe tbody tr th:only-of-type {\n",
              "        vertical-align: middle;\n",
              "    }\n",
              "\n",
              "    .dataframe tbody tr th {\n",
              "        vertical-align: top;\n",
              "    }\n",
              "\n",
              "    .dataframe thead th {\n",
              "        text-align: right;\n",
              "    }\n",
              "</style>\n",
              "<table border=\"1\" class=\"dataframe\">\n",
              "  <thead>\n",
              "    <tr style=\"text-align: right;\">\n",
              "      <th></th>\n",
              "      <th>Date</th>\n",
              "      <th>Open</th>\n",
              "      <th>High</th>\n",
              "      <th>Low</th>\n",
              "      <th>Last</th>\n",
              "      <th>Close</th>\n",
              "      <th>Total Trade Quantity</th>\n",
              "      <th>Turnover (Lacs)</th>\n",
              "    </tr>\n",
              "  </thead>\n",
              "  <tbody>\n",
              "    <tr>\n",
              "      <th>2034</th>\n",
              "      <td>2010-07-21</td>\n",
              "      <td>122.1</td>\n",
              "      <td>123.00</td>\n",
              "      <td>121.05</td>\n",
              "      <td>121.10</td>\n",
              "      <td>121.55</td>\n",
              "      <td>658666</td>\n",
              "      <td>803.56</td>\n",
              "    </tr>\n",
              "    <tr>\n",
              "      <th>2033</th>\n",
              "      <td>2010-07-22</td>\n",
              "      <td>120.3</td>\n",
              "      <td>122.00</td>\n",
              "      <td>120.25</td>\n",
              "      <td>120.75</td>\n",
              "      <td>120.90</td>\n",
              "      <td>293312</td>\n",
              "      <td>355.17</td>\n",
              "    </tr>\n",
              "    <tr>\n",
              "      <th>2032</th>\n",
              "      <td>2010-07-23</td>\n",
              "      <td>121.8</td>\n",
              "      <td>121.95</td>\n",
              "      <td>120.25</td>\n",
              "      <td>120.35</td>\n",
              "      <td>120.65</td>\n",
              "      <td>281312</td>\n",
              "      <td>340.31</td>\n",
              "    </tr>\n",
              "    <tr>\n",
              "      <th>2031</th>\n",
              "      <td>2010-07-26</td>\n",
              "      <td>120.1</td>\n",
              "      <td>121.00</td>\n",
              "      <td>117.10</td>\n",
              "      <td>117.10</td>\n",
              "      <td>117.60</td>\n",
              "      <td>658440</td>\n",
              "      <td>780.01</td>\n",
              "    </tr>\n",
              "    <tr>\n",
              "      <th>2030</th>\n",
              "      <td>2010-07-27</td>\n",
              "      <td>117.6</td>\n",
              "      <td>119.50</td>\n",
              "      <td>112.00</td>\n",
              "      <td>118.80</td>\n",
              "      <td>118.65</td>\n",
              "      <td>586100</td>\n",
              "      <td>694.98</td>\n",
              "    </tr>\n",
              "  </tbody>\n",
              "</table>\n",
              "</div>\n",
              "      <button class=\"colab-df-convert\" onclick=\"convertToInteractive('df-06a464c1-e6a4-4450-902d-a750ba8baa21')\"\n",
              "              title=\"Convert this dataframe to an interactive table.\"\n",
              "              style=\"display:none;\">\n",
              "        \n",
              "  <svg xmlns=\"http://www.w3.org/2000/svg\" height=\"24px\"viewBox=\"0 0 24 24\"\n",
              "       width=\"24px\">\n",
              "    <path d=\"M0 0h24v24H0V0z\" fill=\"none\"/>\n",
              "    <path d=\"M18.56 5.44l.94 2.06.94-2.06 2.06-.94-2.06-.94-.94-2.06-.94 2.06-2.06.94zm-11 1L8.5 8.5l.94-2.06 2.06-.94-2.06-.94L8.5 2.5l-.94 2.06-2.06.94zm10 10l.94 2.06.94-2.06 2.06-.94-2.06-.94-.94-2.06-.94 2.06-2.06.94z\"/><path d=\"M17.41 7.96l-1.37-1.37c-.4-.4-.92-.59-1.43-.59-.52 0-1.04.2-1.43.59L10.3 9.45l-7.72 7.72c-.78.78-.78 2.05 0 2.83L4 21.41c.39.39.9.59 1.41.59.51 0 1.02-.2 1.41-.59l7.78-7.78 2.81-2.81c.8-.78.8-2.07 0-2.86zM5.41 20L4 18.59l7.72-7.72 1.47 1.35L5.41 20z\"/>\n",
              "  </svg>\n",
              "      </button>\n",
              "      \n",
              "  <style>\n",
              "    .colab-df-container {\n",
              "      display:flex;\n",
              "      flex-wrap:wrap;\n",
              "      gap: 12px;\n",
              "    }\n",
              "\n",
              "    .colab-df-convert {\n",
              "      background-color: #E8F0FE;\n",
              "      border: none;\n",
              "      border-radius: 50%;\n",
              "      cursor: pointer;\n",
              "      display: none;\n",
              "      fill: #1967D2;\n",
              "      height: 32px;\n",
              "      padding: 0 0 0 0;\n",
              "      width: 32px;\n",
              "    }\n",
              "\n",
              "    .colab-df-convert:hover {\n",
              "      background-color: #E2EBFA;\n",
              "      box-shadow: 0px 1px 2px rgba(60, 64, 67, 0.3), 0px 1px 3px 1px rgba(60, 64, 67, 0.15);\n",
              "      fill: #174EA6;\n",
              "    }\n",
              "\n",
              "    [theme=dark] .colab-df-convert {\n",
              "      background-color: #3B4455;\n",
              "      fill: #D2E3FC;\n",
              "    }\n",
              "\n",
              "    [theme=dark] .colab-df-convert:hover {\n",
              "      background-color: #434B5C;\n",
              "      box-shadow: 0px 1px 3px 1px rgba(0, 0, 0, 0.15);\n",
              "      filter: drop-shadow(0px 1px 2px rgba(0, 0, 0, 0.3));\n",
              "      fill: #FFFFFF;\n",
              "    }\n",
              "  </style>\n",
              "\n",
              "      <script>\n",
              "        const buttonEl =\n",
              "          document.querySelector('#df-06a464c1-e6a4-4450-902d-a750ba8baa21 button.colab-df-convert');\n",
              "        buttonEl.style.display =\n",
              "          google.colab.kernel.accessAllowed ? 'block' : 'none';\n",
              "\n",
              "        async function convertToInteractive(key) {\n",
              "          const element = document.querySelector('#df-06a464c1-e6a4-4450-902d-a750ba8baa21');\n",
              "          const dataTable =\n",
              "            await google.colab.kernel.invokeFunction('convertToInteractive',\n",
              "                                                     [key], {});\n",
              "          if (!dataTable) return;\n",
              "\n",
              "          const docLinkHtml = 'Like what you see? Visit the ' +\n",
              "            '<a target=\"_blank\" href=https://colab.research.google.com/notebooks/data_table.ipynb>data table notebook</a>'\n",
              "            + ' to learn more about interactive tables.';\n",
              "          element.innerHTML = '';\n",
              "          dataTable['output_type'] = 'display_data';\n",
              "          await google.colab.output.renderOutput(dataTable, element);\n",
              "          const docLink = document.createElement('div');\n",
              "          docLink.innerHTML = docLinkHtml;\n",
              "          element.appendChild(docLink);\n",
              "        }\n",
              "      </script>\n",
              "    </div>\n",
              "  </div>\n",
              "  "
            ]
          },
          "metadata": {},
          "execution_count": 2
        }
      ],
      "source": [
        "df =pd.read_csv('NSE-TATAGLOBAL.csv')\n",
        "df=df.iloc[::-1]\n",
        "df.head()"
      ]
    },
    {
      "cell_type": "code",
      "execution_count": null,
      "metadata": {
        "colab": {
          "base_uri": "https://localhost:8080/",
          "height": 206
        },
        "id": "GxVJULYOoTyO",
        "outputId": "89fb64c9-13dc-453d-d74c-9c0c6ab91a29"
      },
      "outputs": [
        {
          "output_type": "execute_result",
          "data": {
            "text/plain": [
              "         Date    Open    High     Low    Last   Close  Total Trade Quantity  \\\n",
              "4  2018-09-24  233.55  239.20  230.75  234.00  233.30               3423509   \n",
              "3  2018-09-25  233.30  236.75  232.00  236.25  236.10               2349368   \n",
              "2  2018-09-26  240.00  240.00  232.50  235.00  234.25               2240909   \n",
              "1  2018-09-27  234.55  236.80  231.10  233.80  233.25               5082859   \n",
              "0  2018-09-28  234.05  235.95  230.20  233.50  233.75               3069914   \n",
              "\n",
              "   Turnover (Lacs)  \n",
              "4          7999.55  \n",
              "3          5503.90  \n",
              "2          5248.60  \n",
              "1         11859.95  \n",
              "0          7162.35  "
            ],
            "text/html": [
              "\n",
              "  <div id=\"df-66c290c4-fe84-49ab-9376-2f4b65e04918\">\n",
              "    <div class=\"colab-df-container\">\n",
              "      <div>\n",
              "<style scoped>\n",
              "    .dataframe tbody tr th:only-of-type {\n",
              "        vertical-align: middle;\n",
              "    }\n",
              "\n",
              "    .dataframe tbody tr th {\n",
              "        vertical-align: top;\n",
              "    }\n",
              "\n",
              "    .dataframe thead th {\n",
              "        text-align: right;\n",
              "    }\n",
              "</style>\n",
              "<table border=\"1\" class=\"dataframe\">\n",
              "  <thead>\n",
              "    <tr style=\"text-align: right;\">\n",
              "      <th></th>\n",
              "      <th>Date</th>\n",
              "      <th>Open</th>\n",
              "      <th>High</th>\n",
              "      <th>Low</th>\n",
              "      <th>Last</th>\n",
              "      <th>Close</th>\n",
              "      <th>Total Trade Quantity</th>\n",
              "      <th>Turnover (Lacs)</th>\n",
              "    </tr>\n",
              "  </thead>\n",
              "  <tbody>\n",
              "    <tr>\n",
              "      <th>4</th>\n",
              "      <td>2018-09-24</td>\n",
              "      <td>233.55</td>\n",
              "      <td>239.20</td>\n",
              "      <td>230.75</td>\n",
              "      <td>234.00</td>\n",
              "      <td>233.30</td>\n",
              "      <td>3423509</td>\n",
              "      <td>7999.55</td>\n",
              "    </tr>\n",
              "    <tr>\n",
              "      <th>3</th>\n",
              "      <td>2018-09-25</td>\n",
              "      <td>233.30</td>\n",
              "      <td>236.75</td>\n",
              "      <td>232.00</td>\n",
              "      <td>236.25</td>\n",
              "      <td>236.10</td>\n",
              "      <td>2349368</td>\n",
              "      <td>5503.90</td>\n",
              "    </tr>\n",
              "    <tr>\n",
              "      <th>2</th>\n",
              "      <td>2018-09-26</td>\n",
              "      <td>240.00</td>\n",
              "      <td>240.00</td>\n",
              "      <td>232.50</td>\n",
              "      <td>235.00</td>\n",
              "      <td>234.25</td>\n",
              "      <td>2240909</td>\n",
              "      <td>5248.60</td>\n",
              "    </tr>\n",
              "    <tr>\n",
              "      <th>1</th>\n",
              "      <td>2018-09-27</td>\n",
              "      <td>234.55</td>\n",
              "      <td>236.80</td>\n",
              "      <td>231.10</td>\n",
              "      <td>233.80</td>\n",
              "      <td>233.25</td>\n",
              "      <td>5082859</td>\n",
              "      <td>11859.95</td>\n",
              "    </tr>\n",
              "    <tr>\n",
              "      <th>0</th>\n",
              "      <td>2018-09-28</td>\n",
              "      <td>234.05</td>\n",
              "      <td>235.95</td>\n",
              "      <td>230.20</td>\n",
              "      <td>233.50</td>\n",
              "      <td>233.75</td>\n",
              "      <td>3069914</td>\n",
              "      <td>7162.35</td>\n",
              "    </tr>\n",
              "  </tbody>\n",
              "</table>\n",
              "</div>\n",
              "      <button class=\"colab-df-convert\" onclick=\"convertToInteractive('df-66c290c4-fe84-49ab-9376-2f4b65e04918')\"\n",
              "              title=\"Convert this dataframe to an interactive table.\"\n",
              "              style=\"display:none;\">\n",
              "        \n",
              "  <svg xmlns=\"http://www.w3.org/2000/svg\" height=\"24px\"viewBox=\"0 0 24 24\"\n",
              "       width=\"24px\">\n",
              "    <path d=\"M0 0h24v24H0V0z\" fill=\"none\"/>\n",
              "    <path d=\"M18.56 5.44l.94 2.06.94-2.06 2.06-.94-2.06-.94-.94-2.06-.94 2.06-2.06.94zm-11 1L8.5 8.5l.94-2.06 2.06-.94-2.06-.94L8.5 2.5l-.94 2.06-2.06.94zm10 10l.94 2.06.94-2.06 2.06-.94-2.06-.94-.94-2.06-.94 2.06-2.06.94z\"/><path d=\"M17.41 7.96l-1.37-1.37c-.4-.4-.92-.59-1.43-.59-.52 0-1.04.2-1.43.59L10.3 9.45l-7.72 7.72c-.78.78-.78 2.05 0 2.83L4 21.41c.39.39.9.59 1.41.59.51 0 1.02-.2 1.41-.59l7.78-7.78 2.81-2.81c.8-.78.8-2.07 0-2.86zM5.41 20L4 18.59l7.72-7.72 1.47 1.35L5.41 20z\"/>\n",
              "  </svg>\n",
              "      </button>\n",
              "      \n",
              "  <style>\n",
              "    .colab-df-container {\n",
              "      display:flex;\n",
              "      flex-wrap:wrap;\n",
              "      gap: 12px;\n",
              "    }\n",
              "\n",
              "    .colab-df-convert {\n",
              "      background-color: #E8F0FE;\n",
              "      border: none;\n",
              "      border-radius: 50%;\n",
              "      cursor: pointer;\n",
              "      display: none;\n",
              "      fill: #1967D2;\n",
              "      height: 32px;\n",
              "      padding: 0 0 0 0;\n",
              "      width: 32px;\n",
              "    }\n",
              "\n",
              "    .colab-df-convert:hover {\n",
              "      background-color: #E2EBFA;\n",
              "      box-shadow: 0px 1px 2px rgba(60, 64, 67, 0.3), 0px 1px 3px 1px rgba(60, 64, 67, 0.15);\n",
              "      fill: #174EA6;\n",
              "    }\n",
              "\n",
              "    [theme=dark] .colab-df-convert {\n",
              "      background-color: #3B4455;\n",
              "      fill: #D2E3FC;\n",
              "    }\n",
              "\n",
              "    [theme=dark] .colab-df-convert:hover {\n",
              "      background-color: #434B5C;\n",
              "      box-shadow: 0px 1px 3px 1px rgba(0, 0, 0, 0.15);\n",
              "      filter: drop-shadow(0px 1px 2px rgba(0, 0, 0, 0.3));\n",
              "      fill: #FFFFFF;\n",
              "    }\n",
              "  </style>\n",
              "\n",
              "      <script>\n",
              "        const buttonEl =\n",
              "          document.querySelector('#df-66c290c4-fe84-49ab-9376-2f4b65e04918 button.colab-df-convert');\n",
              "        buttonEl.style.display =\n",
              "          google.colab.kernel.accessAllowed ? 'block' : 'none';\n",
              "\n",
              "        async function convertToInteractive(key) {\n",
              "          const element = document.querySelector('#df-66c290c4-fe84-49ab-9376-2f4b65e04918');\n",
              "          const dataTable =\n",
              "            await google.colab.kernel.invokeFunction('convertToInteractive',\n",
              "                                                     [key], {});\n",
              "          if (!dataTable) return;\n",
              "\n",
              "          const docLinkHtml = 'Like what you see? Visit the ' +\n",
              "            '<a target=\"_blank\" href=https://colab.research.google.com/notebooks/data_table.ipynb>data table notebook</a>'\n",
              "            + ' to learn more about interactive tables.';\n",
              "          element.innerHTML = '';\n",
              "          dataTable['output_type'] = 'display_data';\n",
              "          await google.colab.output.renderOutput(dataTable, element);\n",
              "          const docLink = document.createElement('div');\n",
              "          docLink.innerHTML = docLinkHtml;\n",
              "          element.appendChild(docLink);\n",
              "        }\n",
              "      </script>\n",
              "    </div>\n",
              "  </div>\n",
              "  "
            ]
          },
          "metadata": {},
          "execution_count": 3
        }
      ],
      "source": [
        "df.tail()"
      ]
    },
    {
      "cell_type": "code",
      "execution_count": null,
      "metadata": {
        "colab": {
          "base_uri": "https://localhost:8080/"
        },
        "id": "ITRZICUtoTyP",
        "outputId": "be706773-6923-4061-ab7a-6a2edacd6a7c"
      },
      "outputs": [
        {
          "output_type": "execute_result",
          "data": {
            "text/plain": [
              "(2035, 8)"
            ]
          },
          "metadata": {},
          "execution_count": 4
        }
      ],
      "source": [
        "df.shape"
      ]
    },
    {
      "cell_type": "code",
      "execution_count": null,
      "metadata": {
        "colab": {
          "base_uri": "https://localhost:8080/"
        },
        "id": "gs5iP4f2oTyP",
        "outputId": "c574a69f-faba-46b9-f66b-86ffb0ef298f"
      },
      "outputs": [
        {
          "output_type": "execute_result",
          "data": {
            "text/plain": [
              "Index(['Date', 'Open', 'High', 'Low', 'Last', 'Close', 'Total Trade Quantity',\n",
              "       'Turnover (Lacs)'],\n",
              "      dtype='object')"
            ]
          },
          "metadata": {},
          "execution_count": 5
        }
      ],
      "source": [
        "df.columns"
      ]
    },
    {
      "cell_type": "code",
      "execution_count": null,
      "metadata": {
        "colab": {
          "base_uri": "https://localhost:8080/"
        },
        "id": "X0FLkwgNoTyQ",
        "outputId": "a931889d-f9cf-4037-fab8-01e457570ec4"
      },
      "outputs": [
        {
          "output_type": "stream",
          "name": "stdout",
          "text": [
            "<class 'pandas.core.frame.DataFrame'>\n",
            "RangeIndex: 2035 entries, 2034 to 0\n",
            "Data columns (total 8 columns):\n",
            " #   Column                Non-Null Count  Dtype  \n",
            "---  ------                --------------  -----  \n",
            " 0   Date                  2035 non-null   object \n",
            " 1   Open                  2035 non-null   float64\n",
            " 2   High                  2035 non-null   float64\n",
            " 3   Low                   2035 non-null   float64\n",
            " 4   Last                  2035 non-null   float64\n",
            " 5   Close                 2035 non-null   float64\n",
            " 6   Total Trade Quantity  2035 non-null   int64  \n",
            " 7   Turnover (Lacs)       2035 non-null   float64\n",
            "dtypes: float64(6), int64(1), object(1)\n",
            "memory usage: 127.3+ KB\n"
          ]
        }
      ],
      "source": [
        "df.info()"
      ]
    },
    {
      "cell_type": "code",
      "execution_count": null,
      "metadata": {
        "colab": {
          "base_uri": "https://localhost:8080/",
          "height": 344
        },
        "id": "eJWxJ4BaoTyQ",
        "outputId": "7d05ad2a-8e68-48b7-be95-023fdbcfcf3b"
      },
      "outputs": [
        {
          "output_type": "execute_result",
          "data": {
            "text/plain": [
              "              Open         High          Low         Last       Close  \\\n",
              "count  2035.000000  2035.000000  2035.000000  2035.000000  2035.00000   \n",
              "mean    149.713735   151.992826   147.293931   149.474251   149.45027   \n",
              "std      48.664509    49.413109    47.931958    48.732570    48.71204   \n",
              "min      81.100000    82.800000    80.000000    81.000000    80.95000   \n",
              "25%     120.025000   122.100000   118.300000   120.075000   120.05000   \n",
              "50%     141.500000   143.400000   139.600000   141.100000   141.25000   \n",
              "75%     157.175000   159.400000   155.150000   156.925000   156.90000   \n",
              "max     327.700000   328.750000   321.650000   325.950000   325.75000   \n",
              "\n",
              "       Total Trade Quantity  Turnover (Lacs)  \n",
              "count          2.035000e+03      2035.000000  \n",
              "mean           2.335681e+06      3899.980565  \n",
              "std            2.091778e+06      4570.767877  \n",
              "min            3.961000e+04        37.040000  \n",
              "25%            1.146444e+06      1427.460000  \n",
              "50%            1.783456e+06      2512.030000  \n",
              "75%            2.813594e+06      4539.015000  \n",
              "max            2.919102e+07     55755.080000  "
            ],
            "text/html": [
              "\n",
              "  <div id=\"df-3c96a6af-b754-4e48-b1f4-262d8bcea0c1\">\n",
              "    <div class=\"colab-df-container\">\n",
              "      <div>\n",
              "<style scoped>\n",
              "    .dataframe tbody tr th:only-of-type {\n",
              "        vertical-align: middle;\n",
              "    }\n",
              "\n",
              "    .dataframe tbody tr th {\n",
              "        vertical-align: top;\n",
              "    }\n",
              "\n",
              "    .dataframe thead th {\n",
              "        text-align: right;\n",
              "    }\n",
              "</style>\n",
              "<table border=\"1\" class=\"dataframe\">\n",
              "  <thead>\n",
              "    <tr style=\"text-align: right;\">\n",
              "      <th></th>\n",
              "      <th>Open</th>\n",
              "      <th>High</th>\n",
              "      <th>Low</th>\n",
              "      <th>Last</th>\n",
              "      <th>Close</th>\n",
              "      <th>Total Trade Quantity</th>\n",
              "      <th>Turnover (Lacs)</th>\n",
              "    </tr>\n",
              "  </thead>\n",
              "  <tbody>\n",
              "    <tr>\n",
              "      <th>count</th>\n",
              "      <td>2035.000000</td>\n",
              "      <td>2035.000000</td>\n",
              "      <td>2035.000000</td>\n",
              "      <td>2035.000000</td>\n",
              "      <td>2035.00000</td>\n",
              "      <td>2.035000e+03</td>\n",
              "      <td>2035.000000</td>\n",
              "    </tr>\n",
              "    <tr>\n",
              "      <th>mean</th>\n",
              "      <td>149.713735</td>\n",
              "      <td>151.992826</td>\n",
              "      <td>147.293931</td>\n",
              "      <td>149.474251</td>\n",
              "      <td>149.45027</td>\n",
              "      <td>2.335681e+06</td>\n",
              "      <td>3899.980565</td>\n",
              "    </tr>\n",
              "    <tr>\n",
              "      <th>std</th>\n",
              "      <td>48.664509</td>\n",
              "      <td>49.413109</td>\n",
              "      <td>47.931958</td>\n",
              "      <td>48.732570</td>\n",
              "      <td>48.71204</td>\n",
              "      <td>2.091778e+06</td>\n",
              "      <td>4570.767877</td>\n",
              "    </tr>\n",
              "    <tr>\n",
              "      <th>min</th>\n",
              "      <td>81.100000</td>\n",
              "      <td>82.800000</td>\n",
              "      <td>80.000000</td>\n",
              "      <td>81.000000</td>\n",
              "      <td>80.95000</td>\n",
              "      <td>3.961000e+04</td>\n",
              "      <td>37.040000</td>\n",
              "    </tr>\n",
              "    <tr>\n",
              "      <th>25%</th>\n",
              "      <td>120.025000</td>\n",
              "      <td>122.100000</td>\n",
              "      <td>118.300000</td>\n",
              "      <td>120.075000</td>\n",
              "      <td>120.05000</td>\n",
              "      <td>1.146444e+06</td>\n",
              "      <td>1427.460000</td>\n",
              "    </tr>\n",
              "    <tr>\n",
              "      <th>50%</th>\n",
              "      <td>141.500000</td>\n",
              "      <td>143.400000</td>\n",
              "      <td>139.600000</td>\n",
              "      <td>141.100000</td>\n",
              "      <td>141.25000</td>\n",
              "      <td>1.783456e+06</td>\n",
              "      <td>2512.030000</td>\n",
              "    </tr>\n",
              "    <tr>\n",
              "      <th>75%</th>\n",
              "      <td>157.175000</td>\n",
              "      <td>159.400000</td>\n",
              "      <td>155.150000</td>\n",
              "      <td>156.925000</td>\n",
              "      <td>156.90000</td>\n",
              "      <td>2.813594e+06</td>\n",
              "      <td>4539.015000</td>\n",
              "    </tr>\n",
              "    <tr>\n",
              "      <th>max</th>\n",
              "      <td>327.700000</td>\n",
              "      <td>328.750000</td>\n",
              "      <td>321.650000</td>\n",
              "      <td>325.950000</td>\n",
              "      <td>325.75000</td>\n",
              "      <td>2.919102e+07</td>\n",
              "      <td>55755.080000</td>\n",
              "    </tr>\n",
              "  </tbody>\n",
              "</table>\n",
              "</div>\n",
              "      <button class=\"colab-df-convert\" onclick=\"convertToInteractive('df-3c96a6af-b754-4e48-b1f4-262d8bcea0c1')\"\n",
              "              title=\"Convert this dataframe to an interactive table.\"\n",
              "              style=\"display:none;\">\n",
              "        \n",
              "  <svg xmlns=\"http://www.w3.org/2000/svg\" height=\"24px\"viewBox=\"0 0 24 24\"\n",
              "       width=\"24px\">\n",
              "    <path d=\"M0 0h24v24H0V0z\" fill=\"none\"/>\n",
              "    <path d=\"M18.56 5.44l.94 2.06.94-2.06 2.06-.94-2.06-.94-.94-2.06-.94 2.06-2.06.94zm-11 1L8.5 8.5l.94-2.06 2.06-.94-2.06-.94L8.5 2.5l-.94 2.06-2.06.94zm10 10l.94 2.06.94-2.06 2.06-.94-2.06-.94-.94-2.06-.94 2.06-2.06.94z\"/><path d=\"M17.41 7.96l-1.37-1.37c-.4-.4-.92-.59-1.43-.59-.52 0-1.04.2-1.43.59L10.3 9.45l-7.72 7.72c-.78.78-.78 2.05 0 2.83L4 21.41c.39.39.9.59 1.41.59.51 0 1.02-.2 1.41-.59l7.78-7.78 2.81-2.81c.8-.78.8-2.07 0-2.86zM5.41 20L4 18.59l7.72-7.72 1.47 1.35L5.41 20z\"/>\n",
              "  </svg>\n",
              "      </button>\n",
              "      \n",
              "  <style>\n",
              "    .colab-df-container {\n",
              "      display:flex;\n",
              "      flex-wrap:wrap;\n",
              "      gap: 12px;\n",
              "    }\n",
              "\n",
              "    .colab-df-convert {\n",
              "      background-color: #E8F0FE;\n",
              "      border: none;\n",
              "      border-radius: 50%;\n",
              "      cursor: pointer;\n",
              "      display: none;\n",
              "      fill: #1967D2;\n",
              "      height: 32px;\n",
              "      padding: 0 0 0 0;\n",
              "      width: 32px;\n",
              "    }\n",
              "\n",
              "    .colab-df-convert:hover {\n",
              "      background-color: #E2EBFA;\n",
              "      box-shadow: 0px 1px 2px rgba(60, 64, 67, 0.3), 0px 1px 3px 1px rgba(60, 64, 67, 0.15);\n",
              "      fill: #174EA6;\n",
              "    }\n",
              "\n",
              "    [theme=dark] .colab-df-convert {\n",
              "      background-color: #3B4455;\n",
              "      fill: #D2E3FC;\n",
              "    }\n",
              "\n",
              "    [theme=dark] .colab-df-convert:hover {\n",
              "      background-color: #434B5C;\n",
              "      box-shadow: 0px 1px 3px 1px rgba(0, 0, 0, 0.15);\n",
              "      filter: drop-shadow(0px 1px 2px rgba(0, 0, 0, 0.3));\n",
              "      fill: #FFFFFF;\n",
              "    }\n",
              "  </style>\n",
              "\n",
              "      <script>\n",
              "        const buttonEl =\n",
              "          document.querySelector('#df-3c96a6af-b754-4e48-b1f4-262d8bcea0c1 button.colab-df-convert');\n",
              "        buttonEl.style.display =\n",
              "          google.colab.kernel.accessAllowed ? 'block' : 'none';\n",
              "\n",
              "        async function convertToInteractive(key) {\n",
              "          const element = document.querySelector('#df-3c96a6af-b754-4e48-b1f4-262d8bcea0c1');\n",
              "          const dataTable =\n",
              "            await google.colab.kernel.invokeFunction('convertToInteractive',\n",
              "                                                     [key], {});\n",
              "          if (!dataTable) return;\n",
              "\n",
              "          const docLinkHtml = 'Like what you see? Visit the ' +\n",
              "            '<a target=\"_blank\" href=https://colab.research.google.com/notebooks/data_table.ipynb>data table notebook</a>'\n",
              "            + ' to learn more about interactive tables.';\n",
              "          element.innerHTML = '';\n",
              "          dataTable['output_type'] = 'display_data';\n",
              "          await google.colab.output.renderOutput(dataTable, element);\n",
              "          const docLink = document.createElement('div');\n",
              "          docLink.innerHTML = docLinkHtml;\n",
              "          element.appendChild(docLink);\n",
              "        }\n",
              "      </script>\n",
              "    </div>\n",
              "  </div>\n",
              "  "
            ]
          },
          "metadata": {},
          "execution_count": 7
        }
      ],
      "source": [
        "df.describe()"
      ]
    },
    {
      "cell_type": "code",
      "execution_count": null,
      "metadata": {
        "colab": {
          "base_uri": "https://localhost:8080/"
        },
        "id": "qnkIa34XoTyR",
        "outputId": "cde88b2c-ff45-4475-cb7d-225d3c65c732"
      },
      "outputs": [
        {
          "output_type": "execute_result",
          "data": {
            "text/plain": [
              "Date                    0\n",
              "Open                    0\n",
              "High                    0\n",
              "Low                     0\n",
              "Last                    0\n",
              "Close                   0\n",
              "Total Trade Quantity    0\n",
              "Turnover (Lacs)         0\n",
              "dtype: int64"
            ]
          },
          "metadata": {},
          "execution_count": 8
        }
      ],
      "source": [
        "#Data Preprocessing\n",
        "df.isnull().sum()"
      ]
    },
    {
      "cell_type": "code",
      "execution_count": null,
      "metadata": {
        "colab": {
          "base_uri": "https://localhost:8080/"
        },
        "id": "p-3W69D1oTyR",
        "outputId": "c7fe98eb-7b5d-4200-b543-2e77e23186b8"
      },
      "outputs": [
        {
          "output_type": "execute_result",
          "data": {
            "text/plain": [
              "False    2035\n",
              "dtype: int64"
            ]
          },
          "metadata": {},
          "execution_count": 9
        }
      ],
      "source": [
        "duplicates= df.duplicated()\n",
        "duplicates.value_counts() # no duplicates present"
      ]
    },
    {
      "cell_type": "code",
      "execution_count": null,
      "metadata": {
        "colab": {
          "base_uri": "https://localhost:8080/",
          "height": 485
        },
        "id": "eG-iPWbgoTyS",
        "outputId": "e4f205ec-aee6-4205-8e44-f40d22e70c37"
      },
      "outputs": [
        {
          "output_type": "execute_result",
          "data": {
            "text/plain": [
              "<matplotlib.axes._subplots.AxesSubplot at 0x7f96d66a73d0>"
            ]
          },
          "metadata": {},
          "execution_count": 10
        },
        {
          "output_type": "display_data",
          "data": {
            "text/plain": [
              "<Figure size 432x432 with 2 Axes>"
            ],
            "image/png": "[encoded data removed]"
          },
          "metadata": {
            "needs_background": "light"
          }
        }
      ],
      "source": [
        "plt.figure(figsize=(6,6))\n",
        "sns.heatmap(df.corr(), annot=True)"
      ]
    },
    {
      "cell_type": "code",
      "execution_count": null,
      "metadata": {
        "colab": {
          "base_uri": "https://localhost:8080/",
          "height": 282
        },
        "id": "eku8N1-GoTyS",
        "outputId": "28a780e8-b56e-4aa1-b9af-44ffec598aa1"
      },
      "outputs": [
        {
          "output_type": "execute_result",
          "data": {
            "text/plain": [
              "[<matplotlib.lines.Line2D at 0x7f96d38aed90>]"
            ]
          },
          "metadata": {},
          "execution_count": 11
        },
        {
          "output_type": "display_data",
          "data": {
            "text/plain": [
              "<Figure size 432x288 with 1 Axes>"
            ],
            "image/png": "[encoded data removed]"
          },
          "metadata": {
            "needs_background": "light"
          }
        }
      ],
      "source": [
        "df_high=df.reset_index()['High']\n",
        "plt.plot(df_high)"
      ]
    },
    {
      "cell_type": "markdown",
      "metadata": {
        "id": "BDM1jf_LoTyS"
      },
      "source": [
        "As LSTM are not robust to the scale of the data, so we apply MinMax Scaler to transform our values in the range of 0 and 1."
      ]
    },
    {
      "cell_type": "code",
      "execution_count": null,
      "metadata": {
        "id": "sI8AiyTtoTyT"
      },
      "outputs": [],
      "source": [
        "from sklearn.preprocessing import MinMaxScaler\n",
        "scaler = MinMaxScaler(feature_range = (0,1))\n",
        "df_high = scaler.fit_transform(np.array(df_high).reshape(-1,1))"
      ]
    },
    {
      "cell_type": "code",
      "execution_count": null,
      "metadata": {
        "colab": {
          "base_uri": "https://localhost:8080/"
        },
        "id": "fnQrjKI3oTyT",
        "outputId": "08476091-9ad0-4537-c570-60cbe2a3a520"
      },
      "outputs": [
        {
          "output_type": "execute_result",
          "data": {
            "text/plain": [
              "(2035, 1)"
            ]
          },
          "metadata": {},
          "execution_count": 13
        }
      ],
      "source": [
        "df_high.shape"
      ]
    },
    {
      "cell_type": "code",
      "execution_count": null,
      "metadata": {
        "colab": {
          "base_uri": "https://localhost:8080/"
        },
        "id": "Ma4V0DujoTyT",
        "outputId": "7a245168-7ca7-4a8b-d174-c65445a8b357"
      },
      "outputs": [
        {
          "output_type": "execute_result",
          "data": {
            "text/plain": [
              "array([[0.16344786],\n",
              "       [0.15938199],\n",
              "       [0.15917869],\n",
              "       ...,\n",
              "       [0.6391543 ],\n",
              "       [0.62614353],\n",
              "       [0.62268754]])"
            ]
          },
          "metadata": {},
          "execution_count": 14
        }
      ],
      "source": [
        "df_high"
      ]
    },
    {
      "cell_type": "code",
      "execution_count": null,
      "metadata": {
        "id": "NJvzXzIJoTyT"
      },
      "outputs": [],
      "source": [
        "#Split the data into train and test split\n",
        "training_size = int(len(df_high) * 0.75)\n",
        "test_size = len(df_high) - training_size\n",
        "train_data,test_data = df_high[0:training_size,:], df_high[training_size:len(df_high),:1]"
      ]
    },
    {
      "cell_type": "code",
      "execution_count": null,
      "metadata": {
        "colab": {
          "base_uri": "https://localhost:8080/"
        },
        "id": "_JuG7PNMoTyU",
        "outputId": "9e3c3d3d-5068-421d-8a2f-398026a16d59"
      },
      "outputs": [
        {
          "output_type": "execute_result",
          "data": {
            "text/plain": [
              "(1526, 509)"
            ]
          },
          "metadata": {},
          "execution_count": 16
        }
      ],
      "source": [
        "training_size, test_size"
      ]
    },
    {
      "cell_type": "code",
      "execution_count": null,
      "metadata": {
        "id": "ryYAcOipoTyU"
      },
      "outputs": [],
      "source": [
        "# convert an array of values into a dataset matrix\n",
        "def create_dataset(dataset, time_step=1):\n",
        "    dataX, dataY = [], []\n",
        "    for i in range(len(dataset)-time_step-1):\n",
        "        a = dataset[i:(i+time_step), 0]  \n",
        "        dataX.append(a)\n",
        "        dataY.append(dataset[i + time_step, 0])\n",
        "    return np.array(dataX), np.array(dataY)"
      ]
    },
    {
      "cell_type": "code",
      "execution_count": null,
      "metadata": {
        "id": "AyV72jxioTyU"
      },
      "outputs": [],
      "source": [
        "time_step = 100\n",
        "x_train, y_train = create_dataset(train_data, time_step)\n",
        "x_test, y_test = create_dataset(test_data, time_step)"
      ]
    },
    {
      "cell_type": "code",
      "execution_count": null,
      "metadata": {
        "id": "I4PcEea-oTyV"
      },
      "outputs": [],
      "source": [
        "#Reshape the input to be [samples, time steps, features] which is the requirement of LSTM\n",
        "x_train = x_train.reshape(x_train.shape[0], x_train.shape[1], 1)\n",
        "x_test = x_test.reshape(x_test.shape[0], x_test.shape[1], 1)"
      ]
    },
    {
      "cell_type": "code",
      "execution_count": null,
      "metadata": {
        "colab": {
          "base_uri": "https://localhost:8080/"
        },
        "id": "6QOSh0XcoTyV",
        "outputId": "aa2448f6-40c5-4899-a682-2db1b3887c32"
      },
      "outputs": [
        {
          "output_type": "stream",
          "name": "stdout",
          "text": [
            "(1425, 100, 1)\n",
            "(1425,)\n"
          ]
        },
        {
          "output_type": "execute_result",
          "data": {
            "text/plain": [
              "(None, None)"
            ]
          },
          "metadata": {},
          "execution_count": 20
        }
      ],
      "source": [
        "print(x_train.shape), print(y_train.shape)"
      ]
    },
    {
      "cell_type": "code",
      "execution_count": null,
      "metadata": {
        "colab": {
          "base_uri": "https://localhost:8080/"
        },
        "id": "d-57I48soTyV",
        "outputId": "eaa5370c-5e42-4139-d454-059fd22cc38f"
      },
      "outputs": [
        {
          "output_type": "stream",
          "name": "stdout",
          "text": [
            "(408, 100, 1)\n",
            "(408,)\n"
          ]
        },
        {
          "output_type": "execute_result",
          "data": {
            "text/plain": [
              "(None, None)"
            ]
          },
          "metadata": {},
          "execution_count": 21
        }
      ],
      "source": [
        "print(x_test.shape), print(y_test.shape)"
      ]
    },
    {
      "cell_type": "code",
      "execution_count": null,
      "metadata": {
        "id": "PHgjJTVgoTyV"
      },
      "outputs": [],
      "source": [
        "import tensorflow as tf\n",
        "from tensorflow.python.keras.models import Sequential\n",
        "from tensorflow.python.keras.layers import Dense\n",
        "from tensorflow.python.keras.layers import LSTM"
      ]
    },
    {
      "cell_type": "code",
      "execution_count": null,
      "metadata": {
        "id": "5LF127p1oTyV"
      },
      "outputs": [],
      "source": [
        "### Create the Stacked LSTM model\n",
        "model = Sequential()\n",
        "model.add(LSTM(50, return_sequences = True, input_shape = (100,1)))\n",
        "model.add(LSTM(50, return_sequences = True))\n",
        "model.add(LSTM(50))\n",
        "model.add(Dense(1))\n",
        "model.compile(loss = 'mean_squared_error', optimizer = 'adam')"
      ]
    },
    {
      "cell_type": "code",
      "execution_count": null,
      "metadata": {
        "colab": {
          "base_uri": "https://localhost:8080/"
        },
        "id": "cFpV1z2EoTyW",
        "outputId": "dcd05165-9e32-4ad6-a41a-74495ee21572"
      },
      "outputs": [
        {
          "output_type": "stream",
          "name": "stdout",
          "text": [
            "Model: \"sequential\"\n",
            "_________________________________________________________________\n",
            "Layer (type)                 Output Shape              Param #   \n",
            "=================================================================\n",
            "lstm (LSTM)                  (None, 100, 50)           10400     \n",
            "_________________________________________________________________\n",
            "lstm_1 (LSTM)                (None, 100, 50)           20200     \n",
            "_________________________________________________________________\n",
            "lstm_2 (LSTM)                (None, 50)                20200     \n",
            "_________________________________________________________________\n",
            "dense (Dense)                (None, 1)                 51        \n",
            "=================================================================\n",
            "Total params: 50,851\n",
            "Trainable params: 50,851\n",
            "Non-trainable params: 0\n",
            "_________________________________________________________________\n"
          ]
        }
      ],
      "source": [
        "model.summary()"
      ]
    },
    {
      "cell_type": "code",
      "execution_count": null,
      "metadata": {
        "colab": {
          "base_uri": "https://localhost:8080/"
        },
        "id": "ojqlfiAjoTyW",
        "outputId": "c88cf549-8b92-44c3-d5b3-4dec42bd79cb"
      },
      "outputs": [
        {
          "output_type": "stream",
          "name": "stdout",
          "text": [
            "Epoch 1/100\n",
            "23/23 [==============================] - 33s 815ms/step - loss: 0.0095 - val_loss: 0.0278\n",
            "Epoch 2/100\n",
            "23/23 [==============================] - 16s 709ms/step - loss: 0.0016 - val_loss: 0.0048\n",
            "Epoch 3/100\n",
            "23/23 [==============================] - 15s 646ms/step - loss: 8.4762e-04 - val_loss: 0.0036\n",
            "Epoch 4/100\n",
            "23/23 [==============================] - 8s 348ms/step - loss: 7.8500e-04 - val_loss: 0.0040\n",
            "Epoch 5/100\n",
            "23/23 [==============================] - 8s 350ms/step - loss: 7.2009e-04 - val_loss: 0.0048\n",
            "Epoch 6/100\n",
            "23/23 [==============================] - 8s 352ms/step - loss: 6.9919e-04 - val_loss: 0.0038\n",
            "Epoch 7/100\n",
            "23/23 [==============================] - 8s 350ms/step - loss: 7.0275e-04 - val_loss: 0.0041\n",
            "Epoch 8/100\n",
            "23/23 [==============================] - 8s 353ms/step - loss: 6.9080e-04 - val_loss: 0.0026\n",
            "Epoch 9/100\n",
            "23/23 [==============================] - 8s 350ms/step - loss: 6.6583e-04 - val_loss: 0.0073\n",
            "Epoch 10/100\n",
            "23/23 [==============================] - 11s 471ms/step - loss: 6.2289e-04 - val_loss: 0.0031\n",
            "Epoch 11/100\n",
            "23/23 [==============================] - 8s 348ms/step - loss: 6.2308e-04 - val_loss: 0.0049\n",
            "Epoch 12/100\n",
            "23/23 [==============================] - 8s 347ms/step - loss: 5.5920e-04 - val_loss: 0.0040\n",
            "Epoch 13/100\n",
            "23/23 [==============================] - 13s 584ms/step - loss: 5.4397e-04 - val_loss: 0.0084\n",
            "Epoch 14/100\n",
            "23/23 [==============================] - 8s 348ms/step - loss: 5.3754e-04 - val_loss: 0.0053\n",
            "Epoch 15/100\n",
            "23/23 [==============================] - 8s 348ms/step - loss: 5.1987e-04 - val_loss: 0.0062\n",
            "Epoch 16/100\n",
            "23/23 [==============================] - 8s 351ms/step - loss: 5.0838e-04 - val_loss: 0.0125\n",
            "Epoch 17/100\n",
            "23/23 [==============================] - 8s 348ms/step - loss: 4.8199e-04 - val_loss: 0.0122\n",
            "Epoch 18/100\n",
            "23/23 [==============================] - 8s 349ms/step - loss: 4.7446e-04 - val_loss: 0.0122\n",
            "Epoch 19/100\n",
            "23/23 [==============================] - 8s 350ms/step - loss: 4.6289e-04 - val_loss: 0.0103\n",
            "Epoch 20/100\n",
            "23/23 [==============================] - 8s 350ms/step - loss: 4.3583e-04 - val_loss: 0.0115\n",
            "Epoch 21/100\n",
            "23/23 [==============================] - 8s 350ms/step - loss: 4.2863e-04 - val_loss: 0.0184\n",
            "Epoch 22/100\n",
            "23/23 [==============================] - 8s 350ms/step - loss: 4.3129e-04 - val_loss: 0.0172\n",
            "Epoch 23/100\n",
            "23/23 [==============================] - 8s 350ms/step - loss: 4.2339e-04 - val_loss: 0.0102\n",
            "Epoch 24/100\n",
            "23/23 [==============================] - 8s 351ms/step - loss: 4.4753e-04 - val_loss: 0.0089\n",
            "Epoch 25/100\n",
            "23/23 [==============================] - 8s 348ms/step - loss: 4.3969e-04 - val_loss: 0.0056\n",
            "Epoch 26/100\n",
            "23/23 [==============================] - 8s 350ms/step - loss: 4.3095e-04 - val_loss: 0.0069\n",
            "Epoch 27/100\n",
            "23/23 [==============================] - 8s 350ms/step - loss: 4.2774e-04 - val_loss: 0.0094\n",
            "Epoch 28/100\n",
            "23/23 [==============================] - 8s 352ms/step - loss: 3.6770e-04 - val_loss: 0.0101\n",
            "Epoch 29/100\n",
            "23/23 [==============================] - 8s 347ms/step - loss: 3.4649e-04 - val_loss: 0.0097\n",
            "Epoch 30/100\n",
            "23/23 [==============================] - 8s 351ms/step - loss: 3.4590e-04 - val_loss: 0.0092\n",
            "Epoch 31/100\n",
            "23/23 [==============================] - 8s 351ms/step - loss: 3.3333e-04 - val_loss: 0.0075\n",
            "Epoch 32/100\n",
            "23/23 [==============================] - 8s 349ms/step - loss: 3.2473e-04 - val_loss: 0.0076\n",
            "Epoch 33/100\n",
            "23/23 [==============================] - 8s 348ms/step - loss: 3.2107e-04 - val_loss: 0.0057\n",
            "Epoch 34/100\n",
            "23/23 [==============================] - 8s 349ms/step - loss: 3.1245e-04 - val_loss: 0.0039\n",
            "Epoch 35/100\n",
            "23/23 [==============================] - 8s 350ms/step - loss: 3.0421e-04 - val_loss: 0.0057\n",
            "Epoch 36/100\n",
            "23/23 [==============================] - 9s 398ms/step - loss: 2.8210e-04 - val_loss: 0.0072\n",
            "Epoch 37/100\n",
            "23/23 [==============================] - 9s 396ms/step - loss: 2.8816e-04 - val_loss: 0.0081\n",
            "Epoch 38/100\n",
            "23/23 [==============================] - 8s 351ms/step - loss: 3.0352e-04 - val_loss: 0.0063\n",
            "Epoch 39/100\n",
            "23/23 [==============================] - 8s 353ms/step - loss: 3.0940e-04 - val_loss: 0.0054\n",
            "Epoch 40/100\n",
            "23/23 [==============================] - 8s 351ms/step - loss: 3.0150e-04 - val_loss: 0.0065\n",
            "Epoch 41/100\n",
            "23/23 [==============================] - 8s 350ms/step - loss: 2.7205e-04 - val_loss: 0.0053\n",
            "Epoch 42/100\n",
            "23/23 [==============================] - 8s 350ms/step - loss: 2.5285e-04 - val_loss: 0.0030\n",
            "Epoch 43/100\n",
            "23/23 [==============================] - 8s 350ms/step - loss: 2.5638e-04 - val_loss: 0.0026\n",
            "Epoch 44/100\n",
            "23/23 [==============================] - 8s 355ms/step - loss: 2.3166e-04 - val_loss: 0.0039\n",
            "Epoch 45/100\n",
            "23/23 [==============================] - 8s 351ms/step - loss: 2.3363e-04 - val_loss: 0.0031\n",
            "Epoch 46/100\n",
            "23/23 [==============================] - 8s 349ms/step - loss: 2.3228e-04 - val_loss: 0.0016\n",
            "Epoch 47/100\n",
            "23/23 [==============================] - 8s 349ms/step - loss: 2.1765e-04 - val_loss: 0.0076\n",
            "Epoch 48/100\n",
            "23/23 [==============================] - 8s 347ms/step - loss: 2.5567e-04 - val_loss: 0.0046\n",
            "Epoch 49/100\n",
            "23/23 [==============================] - 8s 349ms/step - loss: 1.9525e-04 - val_loss: 0.0034\n",
            "Epoch 50/100\n",
            "23/23 [==============================] - 8s 348ms/step - loss: 2.0548e-04 - val_loss: 0.0062\n",
            "Epoch 51/100\n",
            "23/23 [==============================] - 8s 350ms/step - loss: 2.1151e-04 - val_loss: 0.0045\n",
            "Epoch 52/100\n",
            "23/23 [==============================] - 8s 351ms/step - loss: 1.9309e-04 - val_loss: 0.0036\n",
            "Epoch 53/100\n",
            "23/23 [==============================] - 8s 353ms/step - loss: 1.8379e-04 - val_loss: 0.0064\n",
            "Epoch 54/100\n",
            "23/23 [==============================] - 8s 353ms/step - loss: 2.2328e-04 - val_loss: 0.0037\n",
            "Epoch 55/100\n",
            "23/23 [==============================] - 8s 348ms/step - loss: 1.7592e-04 - val_loss: 0.0022\n",
            "Epoch 56/100\n",
            "23/23 [==============================] - 8s 353ms/step - loss: 1.7100e-04 - val_loss: 0.0025\n",
            "Epoch 57/100\n",
            "23/23 [==============================] - 8s 350ms/step - loss: 1.6912e-04 - val_loss: 0.0042\n",
            "Epoch 58/100\n",
            "23/23 [==============================] - 10s 450ms/step - loss: 1.6296e-04 - val_loss: 0.0024\n",
            "Epoch 59/100\n",
            "23/23 [==============================] - 8s 350ms/step - loss: 1.6302e-04 - val_loss: 0.0037\n",
            "Epoch 60/100\n",
            "23/23 [==============================] - 8s 349ms/step - loss: 1.6374e-04 - val_loss: 0.0046\n",
            "Epoch 61/100\n",
            "23/23 [==============================] - 8s 351ms/step - loss: 1.6675e-04 - val_loss: 0.0031\n",
            "Epoch 62/100\n",
            "23/23 [==============================] - 8s 349ms/step - loss: 1.5358e-04 - val_loss: 0.0025\n",
            "Epoch 63/100\n",
            "23/23 [==============================] - 8s 349ms/step - loss: 1.6497e-04 - val_loss: 0.0045\n",
            "Epoch 64/100\n",
            "23/23 [==============================] - 8s 352ms/step - loss: 1.5184e-04 - val_loss: 0.0022\n",
            "Epoch 65/100\n",
            "23/23 [==============================] - 8s 350ms/step - loss: 1.6724e-04 - val_loss: 0.0037\n",
            "Epoch 66/100\n",
            "23/23 [==============================] - 8s 353ms/step - loss: 1.6531e-04 - val_loss: 0.0041\n",
            "Epoch 67/100\n",
            "23/23 [==============================] - 8s 355ms/step - loss: 1.7454e-04 - val_loss: 0.0026\n",
            "Epoch 68/100\n",
            "23/23 [==============================] - 8s 353ms/step - loss: 1.5285e-04 - val_loss: 0.0054\n",
            "Epoch 69/100\n",
            "23/23 [==============================] - 8s 352ms/step - loss: 1.4401e-04 - val_loss: 0.0043\n",
            "Epoch 70/100\n",
            "23/23 [==============================] - 8s 355ms/step - loss: 1.4361e-04 - val_loss: 0.0038\n",
            "Epoch 71/100\n",
            "23/23 [==============================] - 8s 355ms/step - loss: 1.3638e-04 - val_loss: 0.0030\n",
            "Epoch 72/100\n",
            "23/23 [==============================] - 8s 354ms/step - loss: 1.6841e-04 - val_loss: 0.0042\n",
            "Epoch 73/100\n",
            "23/23 [==============================] - 8s 354ms/step - loss: 1.4273e-04 - val_loss: 0.0043\n",
            "Epoch 74/100\n",
            "23/23 [==============================] - 8s 353ms/step - loss: 1.3707e-04 - val_loss: 0.0031\n",
            "Epoch 75/100\n",
            "23/23 [==============================] - 8s 350ms/step - loss: 1.4343e-04 - val_loss: 0.0020\n",
            "Epoch 76/100\n",
            "23/23 [==============================] - 8s 350ms/step - loss: 1.3905e-04 - val_loss: 0.0015\n",
            "Epoch 77/100\n",
            "23/23 [==============================] - 8s 351ms/step - loss: 1.5603e-04 - val_loss: 0.0044\n",
            "Epoch 78/100\n",
            "23/23 [==============================] - 8s 352ms/step - loss: 1.3211e-04 - val_loss: 0.0042\n",
            "Epoch 79/100\n",
            "23/23 [==============================] - 8s 353ms/step - loss: 1.3706e-04 - val_loss: 0.0028\n",
            "Epoch 80/100\n",
            "23/23 [==============================] - 8s 351ms/step - loss: 1.3489e-04 - val_loss: 0.0044\n",
            "Epoch 81/100\n",
            "23/23 [==============================] - 8s 349ms/step - loss: 1.2994e-04 - val_loss: 0.0045\n",
            "Epoch 82/100\n",
            "23/23 [==============================] - 8s 349ms/step - loss: 1.4224e-04 - val_loss: 0.0048\n",
            "Epoch 83/100\n",
            "23/23 [==============================] - 8s 351ms/step - loss: 1.2481e-04 - val_loss: 0.0036\n",
            "Epoch 84/100\n",
            "23/23 [==============================] - 10s 456ms/step - loss: 1.3294e-04 - val_loss: 0.0023\n",
            "Epoch 85/100\n",
            "23/23 [==============================] - 8s 351ms/step - loss: 1.2838e-04 - val_loss: 0.0026\n",
            "Epoch 86/100\n",
            "23/23 [==============================] - 8s 354ms/step - loss: 1.2926e-04 - val_loss: 0.0044\n",
            "Epoch 87/100\n",
            "23/23 [==============================] - 8s 350ms/step - loss: 1.3574e-04 - val_loss: 0.0021\n",
            "Epoch 88/100\n",
            "23/23 [==============================] - 8s 350ms/step - loss: 1.2190e-04 - val_loss: 0.0039\n",
            "Epoch 89/100\n",
            "23/23 [==============================] - 8s 354ms/step - loss: 1.2371e-04 - val_loss: 0.0023\n",
            "Epoch 90/100\n",
            "23/23 [==============================] - 8s 355ms/step - loss: 1.2507e-04 - val_loss: 0.0027\n",
            "Epoch 91/100\n",
            "23/23 [==============================] - 8s 353ms/step - loss: 1.2019e-04 - val_loss: 0.0023\n",
            "Epoch 92/100\n",
            "23/23 [==============================] - 8s 353ms/step - loss: 1.1909e-04 - val_loss: 0.0038\n",
            "Epoch 93/100\n",
            "23/23 [==============================] - 8s 352ms/step - loss: 1.1874e-04 - val_loss: 0.0025\n",
            "Epoch 94/100\n",
            "23/23 [==============================] - 8s 353ms/step - loss: 1.3026e-04 - val_loss: 0.0025\n",
            "Epoch 95/100\n",
            "23/23 [==============================] - 8s 351ms/step - loss: 1.4090e-04 - val_loss: 0.0028\n",
            "Epoch 96/100\n",
            "23/23 [==============================] - 8s 351ms/step - loss: 1.2105e-04 - val_loss: 0.0020\n",
            "Epoch 97/100\n",
            "23/23 [==============================] - 8s 352ms/step - loss: 1.3474e-04 - val_loss: 0.0028\n",
            "Epoch 98/100\n",
            "23/23 [==============================] - 8s 353ms/step - loss: 1.1633e-04 - val_loss: 0.0027\n",
            "Epoch 99/100\n",
            "23/23 [==============================] - 8s 351ms/step - loss: 1.1959e-04 - val_loss: 0.0030\n",
            "Epoch 100/100\n",
            "23/23 [==============================] - 8s 355ms/step - loss: 1.1501e-04 - val_loss: 0.0046\n"
          ]
        },
        {
          "output_type": "execute_result",
          "data": {
            "text/plain": [
              "<tensorflow.python.keras.callbacks.History at 0x7f96782df2b0>"
            ]
          },
          "metadata": {},
          "execution_count": 25
        }
      ],
      "source": [
        "model.fit(x_train, y_train, validation_data = (x_test, y_test), epochs = 100, batch_size = 64, verbose = 1)"
      ]
    },
    {
      "cell_type": "code",
      "execution_count": null,
      "metadata": {
        "id": "Fl-Qfj7GoTyW"
      },
      "outputs": [],
      "source": [
        "#predictions\n",
        "#Lets predict and check performance metrics\n",
        "train_predict = model.predict(x_train)\n",
        "test_predict = model.predict(x_test)"
      ]
    },
    {
      "cell_type": "code",
      "execution_count": null,
      "metadata": {
        "id": "GG44-E28oTyW"
      },
      "outputs": [],
      "source": [
        "#Transform back to original form\n",
        "train_predict = scaler.inverse_transform(train_predict)\n",
        "test_predict = scaler.inverse_transform(test_predict)"
      ]
    },
    {
      "cell_type": "code",
      "execution_count": null,
      "metadata": {
        "colab": {
          "base_uri": "https://localhost:8080/"
        },
        "id": "ac3Siow7oTyX",
        "outputId": "e6c8fae3-6a87-4b36-95a4-fef15653f211"
      },
      "outputs": [
        {
          "output_type": "execute_result",
          "data": {
            "text/plain": [
              "134.58189169109244"
            ]
          },
          "metadata": {},
          "execution_count": 28
        }
      ],
      "source": [
        "#Calculate RMSE performance metrics\n",
        "import math\n",
        "from sklearn.metrics import mean_squared_error\n",
        "math.sqrt(mean_squared_error(y_train, train_predict))"
      ]
    },
    {
      "cell_type": "code",
      "execution_count": null,
      "metadata": {
        "colab": {
          "base_uri": "https://localhost:8080/"
        },
        "id": "Li4dELsKoTyX",
        "outputId": "cd04a14e-4bf8-4d22-de3b-d4ba91eb890d"
      },
      "outputs": [
        {
          "output_type": "execute_result",
          "data": {
            "text/plain": [
              "218.48492086886083"
            ]
          },
          "metadata": {},
          "execution_count": 29
        }
      ],
      "source": [
        "#Test Data RMSE\n",
        "math.sqrt(mean_squared_error(y_test, test_predict))"
      ]
    },
    {
      "cell_type": "code",
      "execution_count": null,
      "metadata": {
        "id": "BpGxoCdMoTyX"
      },
      "outputs": [],
      "source": [
        "#Plotting\n",
        "#Shift train prediction for plotting\n",
        "look_back = 100\n",
        "trainPredictPlot = np.empty_like(df_high)\n",
        "trainPredictPlot[:,:] = np.nan\n",
        "trainPredictPlot[look_back:len(train_predict) + look_back, :] = train_predict\n",
        "\n",
        "#Shift test prediction for plotting\n",
        "testPredictPlot = np.empty_like(df_high)\n",
        "testPredictPlot[:,:] = np.nan\n",
        "testPredictPlot[len(train_predict) + (look_back * 2)+1:len(df_high) - 1, :] = test_predict"
      ]
    },
    {
      "cell_type": "code",
      "execution_count": null,
      "metadata": {
        "colab": {
          "base_uri": "https://localhost:8080/",
          "height": 317
        },
        "id": "XUj9ojU1oTyY",
        "outputId": "fcf06c74-6f27-4865-8595-3d675282e680"
      },
      "outputs": [
        {
          "output_type": "display_data",
          "data": {
            "text/plain": [
              "<Figure size 432x288 with 1 Axes>"
            ],
            "image/png": "[encoded data removed]"
          },
          "metadata": {
            "needs_background": "light"
          }
        },
        {
          "output_type": "stream",
          "name": "stdout",
          "text": [
            "Green indicates the Predicted Data\n",
            "Blue indicates the Complete Data\n",
            "Orange indicates the Train Data\n"
          ]
        }
      ],
      "source": [
        "#Plot baseline and predictions\n",
        "plt.plot(scaler.inverse_transform(df_high))\n",
        "plt.plot(trainPredictPlot)\n",
        "plt.plot(testPredictPlot)\n",
        "plt.show()\n",
        "\n",
        "print(\"Green indicates the Predicted Data\")\n",
        "print(\"Blue indicates the Complete Data\")\n",
        "print(\"Orange indicates the Train Data\")"
      ]
    },
    {
      "cell_type": "code",
      "execution_count": null,
      "metadata": {
        "colab": {
          "base_uri": "https://localhost:8080/"
        },
        "id": "_KIdRtiQoTyY",
        "outputId": "288ea940-d0e4-4b2a-82d2-bf66d09fec8a"
      },
      "outputs": [
        {
          "output_type": "execute_result",
          "data": {
            "text/plain": [
              "(509, (408, 100, 1))"
            ]
          },
          "metadata": {},
          "execution_count": 32
        }
      ],
      "source": [
        "#Predict the next 28 days Stock Price\n",
        "len(test_data), x_test.shape"
      ]
    },
    {
      "cell_type": "code",
      "execution_count": null,
      "metadata": {
        "colab": {
          "base_uri": "https://localhost:8080/"
        },
        "id": "4af6Ml3ioTyY",
        "outputId": "7a8babad-9e74-4069-c56e-4b5e32987727"
      },
      "outputs": [
        {
          "output_type": "execute_result",
          "data": {
            "text/plain": [
              "(1, 100)"
            ]
          },
          "metadata": {},
          "execution_count": 33
        }
      ],
      "source": [
        "x_input = test_data[409:].reshape(1,-1)\n",
        "x_input.shape"
      ]
    },
    {
      "cell_type": "code",
      "execution_count": null,
      "metadata": {
        "colab": {
          "base_uri": "https://localhost:8080/"
        },
        "id": "xHR3ODVBoTyY",
        "outputId": "98683c3a-58c2-4b81-853d-24f82fed9cd7"
      },
      "outputs": [
        {
          "output_type": "stream",
          "name": "stdout",
          "text": [
            "[0.57050717]\n",
            "101\n",
            "1 day input [0.86013417 0.85464525 0.84448059 0.8072779  0.71843871 0.66192316\n",
            " 0.67696686 0.67554381 0.67310429 0.68428542 0.68936776 0.70217524\n",
            " 0.71803212 0.72941655 0.73144948 0.74486684 0.76926205 0.75991055\n",
            " 0.74242732 0.73958122 0.74771295 0.75991055 0.7584875  0.76621264\n",
            " 0.75462492 0.76316324 0.79670665 0.80585485 0.7889815  0.78003659\n",
            " 0.73978451 0.73002643 0.73490547 0.74872942 0.75991055 0.75462492\n",
            " 0.75401504 0.76174019 0.7737345  0.82008538 0.80585485 0.81154706\n",
            " 0.77434438 0.78633869 0.79284407 0.78328929 0.77109169 0.74385038\n",
            " 0.71193332 0.68733482 0.67818662 0.65257166 0.64301687 0.65643423\n",
            " 0.67656028 0.67371417 0.65114861 0.65521447 0.66761537 0.67838992\n",
            " 0.69993901 0.63122586 0.63508843 0.64098394 0.64545639 0.64118723\n",
            " 0.63854442 0.63081927 0.62472047 0.6330555  0.64728603 0.6574507\n",
            " 0.66761537 0.66720878 0.64159382 0.62776987 0.63651149 0.63630819\n",
            " 0.62980281 0.62817646 0.63813783 0.65358813 0.63183574 0.57653995\n",
            " 0.57816629 0.57613336 0.61943484 0.57979264 0.57288067 0.62573694\n",
            " 0.63102257 0.6361049  0.62776987 0.6269567  0.63590161 0.62594023\n",
            " 0.6391543  0.62614353 0.62268754 0.57050717]\n",
            "1 day output [[0.49828815]]\n",
            "2 day input [0.85464525 0.84448059 0.8072779  0.71843871 0.66192316 0.67696686\n",
            " 0.67554381 0.67310429 0.68428542 0.68936776 0.70217524 0.71803212\n",
            " 0.72941655 0.73144948 0.74486684 0.76926205 0.75991055 0.74242732\n",
            " 0.73958122 0.74771295 0.75991055 0.7584875  0.76621264 0.75462492\n",
            " 0.76316324 0.79670665 0.80585485 0.7889815  0.78003659 0.73978451\n",
            " 0.73002643 0.73490547 0.74872942 0.75991055 0.75462492 0.75401504\n",
            " 0.76174019 0.7737345  0.82008538 0.80585485 0.81154706 0.77434438\n",
            " 0.78633869 0.79284407 0.78328929 0.77109169 0.74385038 0.71193332\n",
            " 0.68733482 0.67818662 0.65257166 0.64301687 0.65643423 0.67656028\n",
            " 0.67371417 0.65114861 0.65521447 0.66761537 0.67838992 0.69993901\n",
            " 0.63122586 0.63508843 0.64098394 0.64545639 0.64118723 0.63854442\n",
            " 0.63081927 0.62472047 0.6330555  0.64728603 0.6574507  0.66761537\n",
            " 0.66720878 0.64159382 0.62776987 0.63651149 0.63630819 0.62980281\n",
            " 0.62817646 0.63813783 0.65358813 0.63183574 0.57653995 0.57816629\n",
            " 0.57613336 0.61943484 0.57979264 0.57288067 0.62573694 0.63102257\n",
            " 0.6361049  0.62776987 0.6269567  0.63590161 0.62594023 0.6391543\n",
            " 0.62614353 0.62268754 0.57050717 0.49828815]\n",
            "2 day output [[0.41380683]]\n",
            "3 day input [0.84448059 0.8072779  0.71843871 0.66192316 0.67696686 0.67554381\n",
            " 0.67310429 0.68428542 0.68936776 0.70217524 0.71803212 0.72941655\n",
            " 0.73144948 0.74486684 0.76926205 0.75991055 0.74242732 0.73958122\n",
            " 0.74771295 0.75991055 0.7584875  0.76621264 0.75462492 0.76316324\n",
            " 0.79670665 0.80585485 0.7889815  0.78003659 0.73978451 0.73002643\n",
            " 0.73490547 0.74872942 0.75991055 0.75462492 0.75401504 0.76174019\n",
            " 0.7737345  0.82008538 0.80585485 0.81154706 0.77434438 0.78633869\n",
            " 0.79284407 0.78328929 0.77109169 0.74385038 0.71193332 0.68733482\n",
            " 0.67818662 0.65257166 0.64301687 0.65643423 0.67656028 0.67371417\n",
            " 0.65114861 0.65521447 0.66761537 0.67838992 0.69993901 0.63122586\n",
            " 0.63508843 0.64098394 0.64545639 0.64118723 0.63854442 0.63081927\n",
            " 0.62472047 0.6330555  0.64728603 0.6574507  0.66761537 0.66720878\n",
            " 0.64159382 0.62776987 0.63651149 0.63630819 0.62980281 0.62817646\n",
            " 0.63813783 0.65358813 0.63183574 0.57653995 0.57816629 0.57613336\n",
            " 0.61943484 0.57979264 0.57288067 0.62573694 0.63102257 0.6361049\n",
            " 0.62776987 0.6269567  0.63590161 0.62594023 0.6391543  0.62614353\n",
            " 0.62268754 0.57050717 0.49828815 0.41380683]\n",
            "3 day output [[0.3440271]]\n",
            "4 day input [0.8072779  0.71843871 0.66192316 0.67696686 0.67554381 0.67310429\n",
            " 0.68428542 0.68936776 0.70217524 0.71803212 0.72941655 0.73144948\n",
            " 0.74486684 0.76926205 0.75991055 0.74242732 0.73958122 0.74771295\n",
            " 0.75991055 0.7584875  0.76621264 0.75462492 0.76316324 0.79670665\n",
            " 0.80585485 0.7889815  0.78003659 0.73978451 0.73002643 0.73490547\n",
            " 0.74872942 0.75991055 0.75462492 0.75401504 0.76174019 0.7737345\n",
            " 0.82008538 0.80585485 0.81154706 0.77434438 0.78633869 0.79284407\n",
            " 0.78328929 0.77109169 0.74385038 0.71193332 0.68733482 0.67818662\n",
            " 0.65257166 0.64301687 0.65643423 0.67656028 0.67371417 0.65114861\n",
            " 0.65521447 0.66761537 0.67838992 0.69993901 0.63122586 0.63508843\n",
            " 0.64098394 0.64545639 0.64118723 0.63854442 0.63081927 0.62472047\n",
            " 0.6330555  0.64728603 0.6574507  0.66761537 0.66720878 0.64159382\n",
            " 0.62776987 0.63651149 0.63630819 0.62980281 0.62817646 0.63813783\n",
            " 0.65358813 0.63183574 0.57653995 0.57816629 0.57613336 0.61943484\n",
            " 0.57979264 0.57288067 0.62573694 0.63102257 0.6361049  0.62776987\n",
            " 0.6269567  0.63590161 0.62594023 0.6391543  0.62614353 0.62268754\n",
            " 0.57050717 0.49828815 0.41380683 0.3440271 ]\n",
            "4 day output [[0.28805014]]\n",
            "5 day input [0.71843871 0.66192316 0.67696686 0.67554381 0.67310429 0.68428542\n",
            " 0.68936776 0.70217524 0.71803212 0.72941655 0.73144948 0.74486684\n",
            " 0.76926205 0.75991055 0.74242732 0.73958122 0.74771295 0.75991055\n",
            " 0.7584875  0.76621264 0.75462492 0.76316324 0.79670665 0.80585485\n",
            " 0.7889815  0.78003659 0.73978451 0.73002643 0.73490547 0.74872942\n",
            " 0.75991055 0.75462492 0.75401504 0.76174019 0.7737345  0.82008538\n",
            " 0.80585485 0.81154706 0.77434438 0.78633869 0.79284407 0.78328929\n",
            " 0.77109169 0.74385038 0.71193332 0.68733482 0.67818662 0.65257166\n",
            " 0.64301687 0.65643423 0.67656028 0.67371417 0.65114861 0.65521447\n",
            " 0.66761537 0.67838992 0.69993901 0.63122586 0.63508843 0.64098394\n",
            " 0.64545639 0.64118723 0.63854442 0.63081927 0.62472047 0.6330555\n",
            " 0.64728603 0.6574507  0.66761537 0.66720878 0.64159382 0.62776987\n",
            " 0.63651149 0.63630819 0.62980281 0.62817646 0.63813783 0.65358813\n",
            " 0.63183574 0.57653995 0.57816629 0.57613336 0.61943484 0.57979264\n",
            " 0.57288067 0.62573694 0.63102257 0.6361049  0.62776987 0.6269567\n",
            " 0.63590161 0.62594023 0.6391543  0.62614353 0.62268754 0.57050717\n",
            " 0.49828815 0.41380683 0.3440271  0.28805014]\n",
            "5 day output [[0.25342962]]\n",
            "6 day input [0.66192316 0.67696686 0.67554381 0.67310429 0.68428542 0.68936776\n",
            " 0.70217524 0.71803212 0.72941655 0.73144948 0.74486684 0.76926205\n",
            " 0.75991055 0.74242732 0.73958122 0.74771295 0.75991055 0.7584875\n",
            " 0.76621264 0.75462492 0.76316324 0.79670665 0.80585485 0.7889815\n",
            " 0.78003659 0.73978451 0.73002643 0.73490547 0.74872942 0.75991055\n",
            " 0.75462492 0.75401504 0.76174019 0.7737345  0.82008538 0.80585485\n",
            " 0.81154706 0.77434438 0.78633869 0.79284407 0.78328929 0.77109169\n",
            " 0.74385038 0.71193332 0.68733482 0.67818662 0.65257166 0.64301687\n",
            " 0.65643423 0.67656028 0.67371417 0.65114861 0.65521447 0.66761537\n",
            " 0.67838992 0.69993901 0.63122586 0.63508843 0.64098394 0.64545639\n",
            " 0.64118723 0.63854442 0.63081927 0.62472047 0.6330555  0.64728603\n",
            " 0.6574507  0.66761537 0.66720878 0.64159382 0.62776987 0.63651149\n",
            " 0.63630819 0.62980281 0.62817646 0.63813783 0.65358813 0.63183574\n",
            " 0.57653995 0.57816629 0.57613336 0.61943484 0.57979264 0.57288067\n",
            " 0.62573694 0.63102257 0.6361049  0.62776987 0.6269567  0.63590161\n",
            " 0.62594023 0.6391543  0.62614353 0.62268754 0.57050717 0.49828815\n",
            " 0.41380683 0.3440271  0.28805014 0.25342962]\n",
            "6 day output [[0.24245262]]\n",
            "7 day input [0.67696686 0.67554381 0.67310429 0.68428542 0.68936776 0.70217524\n",
            " 0.71803212 0.72941655 0.73144948 0.74486684 0.76926205 0.75991055\n",
            " 0.74242732 0.73958122 0.74771295 0.75991055 0.7584875  0.76621264\n",
            " 0.75462492 0.76316324 0.79670665 0.80585485 0.7889815  0.78003659\n",
            " 0.73978451 0.73002643 0.73490547 0.74872942 0.75991055 0.75462492\n",
            " 0.75401504 0.76174019 0.7737345  0.82008538 0.80585485 0.81154706\n",
            " 0.77434438 0.78633869 0.79284407 0.78328929 0.77109169 0.74385038\n",
            " 0.71193332 0.68733482 0.67818662 0.65257166 0.64301687 0.65643423\n",
            " 0.67656028 0.67371417 0.65114861 0.65521447 0.66761537 0.67838992\n",
            " 0.69993901 0.63122586 0.63508843 0.64098394 0.64545639 0.64118723\n",
            " 0.63854442 0.63081927 0.62472047 0.6330555  0.64728603 0.6574507\n",
            " 0.66761537 0.66720878 0.64159382 0.62776987 0.63651149 0.63630819\n",
            " 0.62980281 0.62817646 0.63813783 0.65358813 0.63183574 0.57653995\n",
            " 0.57816629 0.57613336 0.61943484 0.57979264 0.57288067 0.62573694\n",
            " 0.63102257 0.6361049  0.62776987 0.6269567  0.63590161 0.62594023\n",
            " 0.6391543  0.62614353 0.62268754 0.57050717 0.49828815 0.41380683\n",
            " 0.3440271  0.28805014 0.25342962 0.24245262]\n",
            "7 day output [[0.24104372]]\n",
            "8 day input [0.67554381 0.67310429 0.68428542 0.68936776 0.70217524 0.71803212\n",
            " 0.72941655 0.73144948 0.74486684 0.76926205 0.75991055 0.74242732\n",
            " 0.73958122 0.74771295 0.75991055 0.7584875  0.76621264 0.75462492\n",
            " 0.76316324 0.79670665 0.80585485 0.7889815  0.78003659 0.73978451\n",
            " 0.73002643 0.73490547 0.74872942 0.75991055 0.75462492 0.75401504\n",
            " 0.76174019 0.7737345  0.82008538 0.80585485 0.81154706 0.77434438\n",
            " 0.78633869 0.79284407 0.78328929 0.77109169 0.74385038 0.71193332\n",
            " 0.68733482 0.67818662 0.65257166 0.64301687 0.65643423 0.67656028\n",
            " 0.67371417 0.65114861 0.65521447 0.66761537 0.67838992 0.69993901\n",
            " 0.63122586 0.63508843 0.64098394 0.64545639 0.64118723 0.63854442\n",
            " 0.63081927 0.62472047 0.6330555  0.64728603 0.6574507  0.66761537\n",
            " 0.66720878 0.64159382 0.62776987 0.63651149 0.63630819 0.62980281\n",
            " 0.62817646 0.63813783 0.65358813 0.63183574 0.57653995 0.57816629\n",
            " 0.57613336 0.61943484 0.57979264 0.57288067 0.62573694 0.63102257\n",
            " 0.6361049  0.62776987 0.6269567  0.63590161 0.62594023 0.6391543\n",
            " 0.62614353 0.62268754 0.57050717 0.49828815 0.41380683 0.3440271\n",
            " 0.28805014 0.25342962 0.24245262 0.24104372]\n",
            "8 day output [[0.24395737]]\n",
            "9 day input [0.67310429 0.68428542 0.68936776 0.70217524 0.71803212 0.72941655\n",
            " 0.73144948 0.74486684 0.76926205 0.75991055 0.74242732 0.73958122\n",
            " 0.74771295 0.75991055 0.7584875  0.76621264 0.75462492 0.76316324\n",
            " 0.79670665 0.80585485 0.7889815  0.78003659 0.73978451 0.73002643\n",
            " 0.73490547 0.74872942 0.75991055 0.75462492 0.75401504 0.76174019\n",
            " 0.7737345  0.82008538 0.80585485 0.81154706 0.77434438 0.78633869\n",
            " 0.79284407 0.78328929 0.77109169 0.74385038 0.71193332 0.68733482\n",
            " 0.67818662 0.65257166 0.64301687 0.65643423 0.67656028 0.67371417\n",
            " 0.65114861 0.65521447 0.66761537 0.67838992 0.69993901 0.63122586\n",
            " 0.63508843 0.64098394 0.64545639 0.64118723 0.63854442 0.63081927\n",
            " 0.62472047 0.6330555  0.64728603 0.6574507  0.66761537 0.66720878\n",
            " 0.64159382 0.62776987 0.63651149 0.63630819 0.62980281 0.62817646\n",
            " 0.63813783 0.65358813 0.63183574 0.57653995 0.57816629 0.57613336\n",
            " 0.61943484 0.57979264 0.57288067 0.62573694 0.63102257 0.6361049\n",
            " 0.62776987 0.6269567  0.63590161 0.62594023 0.6391543  0.62614353\n",
            " 0.62268754 0.57050717 0.49828815 0.41380683 0.3440271  0.28805014\n",
            " 0.25342962 0.24245262 0.24104372 0.24395737]\n",
            "9 day output [[0.24943224]]\n",
            "10 day input [0.68428542 0.68936776 0.70217524 0.71803212 0.72941655 0.73144948\n",
            " 0.74486684 0.76926205 0.75991055 0.74242732 0.73958122 0.74771295\n",
            " 0.75991055 0.7584875  0.76621264 0.75462492 0.76316324 0.79670665\n",
            " 0.80585485 0.7889815  0.78003659 0.73978451 0.73002643 0.73490547\n",
            " 0.74872942 0.75991055 0.75462492 0.75401504 0.76174019 0.7737345\n",
            " 0.82008538 0.80585485 0.81154706 0.77434438 0.78633869 0.79284407\n",
            " 0.78328929 0.77109169 0.74385038 0.71193332 0.68733482 0.67818662\n",
            " 0.65257166 0.64301687 0.65643423 0.67656028 0.67371417 0.65114861\n",
            " 0.65521447 0.66761537 0.67838992 0.69993901 0.63122586 0.63508843\n",
            " 0.64098394 0.64545639 0.64118723 0.63854442 0.63081927 0.62472047\n",
            " 0.6330555  0.64728603 0.6574507  0.66761537 0.66720878 0.64159382\n",
            " 0.62776987 0.63651149 0.63630819 0.62980281 0.62817646 0.63813783\n",
            " 0.65358813 0.63183574 0.57653995 0.57816629 0.57613336 0.61943484\n",
            " 0.57979264 0.57288067 0.62573694 0.63102257 0.6361049  0.62776987\n",
            " 0.6269567  0.63590161 0.62594023 0.6391543  0.62614353 0.62268754\n",
            " 0.57050717 0.49828815 0.41380683 0.3440271  0.28805014 0.25342962\n",
            " 0.24245262 0.24104372 0.24395737 0.24943224]\n",
            "10 day output [[0.2549181]]\n",
            "11 day input [0.68936776 0.70217524 0.71803212 0.72941655 0.73144948 0.74486684\n",
            " 0.76926205 0.75991055 0.74242732 0.73958122 0.74771295 0.75991055\n",
            " 0.7584875  0.76621264 0.75462492 0.76316324 0.79670665 0.80585485\n",
            " 0.7889815  0.78003659 0.73978451 0.73002643 0.73490547 0.74872942\n",
            " 0.75991055 0.75462492 0.75401504 0.76174019 0.7737345  0.82008538\n",
            " 0.80585485 0.81154706 0.77434438 0.78633869 0.79284407 0.78328929\n",
            " 0.77109169 0.74385038 0.71193332 0.68733482 0.67818662 0.65257166\n",
            " 0.64301687 0.65643423 0.67656028 0.67371417 0.65114861 0.65521447\n",
            " 0.66761537 0.67838992 0.69993901 0.63122586 0.63508843 0.64098394\n",
            " 0.64545639 0.64118723 0.63854442 0.63081927 0.62472047 0.6330555\n",
            " 0.64728603 0.6574507  0.66761537 0.66720878 0.64159382 0.62776987\n",
            " 0.63651149 0.63630819 0.62980281 0.62817646 0.63813783 0.65358813\n",
            " 0.63183574 0.57653995 0.57816629 0.57613336 0.61943484 0.57979264\n",
            " 0.57288067 0.62573694 0.63102257 0.6361049  0.62776987 0.6269567\n",
            " 0.63590161 0.62594023 0.6391543  0.62614353 0.62268754 0.57050717\n",
            " 0.49828815 0.41380683 0.3440271  0.28805014 0.25342962 0.24245262\n",
            " 0.24104372 0.24395737 0.24943224 0.2549181 ]\n",
            "11 day output [[0.25882244]]\n",
            "12 day input [0.70217524 0.71803212 0.72941655 0.73144948 0.74486684 0.76926205\n",
            " 0.75991055 0.74242732 0.73958122 0.74771295 0.75991055 0.7584875\n",
            " 0.76621264 0.75462492 0.76316324 0.79670665 0.80585485 0.7889815\n",
            " 0.78003659 0.73978451 0.73002643 0.73490547 0.74872942 0.75991055\n",
            " 0.75462492 0.75401504 0.76174019 0.7737345  0.82008538 0.80585485\n",
            " 0.81154706 0.77434438 0.78633869 0.79284407 0.78328929 0.77109169\n",
            " 0.74385038 0.71193332 0.68733482 0.67818662 0.65257166 0.64301687\n",
            " 0.65643423 0.67656028 0.67371417 0.65114861 0.65521447 0.66761537\n",
            " 0.67838992 0.69993901 0.63122586 0.63508843 0.64098394 0.64545639\n",
            " 0.64118723 0.63854442 0.63081927 0.62472047 0.6330555  0.64728603\n",
            " 0.6574507  0.66761537 0.66720878 0.64159382 0.62776987 0.63651149\n",
            " 0.63630819 0.62980281 0.62817646 0.63813783 0.65358813 0.63183574\n",
            " 0.57653995 0.57816629 0.57613336 0.61943484 0.57979264 0.57288067\n",
            " 0.62573694 0.63102257 0.6361049  0.62776987 0.6269567  0.63590161\n",
            " 0.62594023 0.6391543  0.62614353 0.62268754 0.57050717 0.49828815\n",
            " 0.41380683 0.3440271  0.28805014 0.25342962 0.24245262 0.24104372\n",
            " 0.24395737 0.24943224 0.2549181  0.25882244]\n",
            "12 day output [[0.2604923]]\n",
            "13 day input [0.71803212 0.72941655 0.73144948 0.74486684 0.76926205 0.75991055\n",
            " 0.74242732 0.73958122 0.74771295 0.75991055 0.7584875  0.76621264\n",
            " 0.75462492 0.76316324 0.79670665 0.80585485 0.7889815  0.78003659\n",
            " 0.73978451 0.73002643 0.73490547 0.74872942 0.75991055 0.75462492\n",
            " 0.75401504 0.76174019 0.7737345  0.82008538 0.80585485 0.81154706\n",
            " 0.77434438 0.78633869 0.79284407 0.78328929 0.77109169 0.74385038\n",
            " 0.71193332 0.68733482 0.67818662 0.65257166 0.64301687 0.65643423\n",
            " 0.67656028 0.67371417 0.65114861 0.65521447 0.66761537 0.67838992\n",
            " 0.69993901 0.63122586 0.63508843 0.64098394 0.64545639 0.64118723\n",
            " 0.63854442 0.63081927 0.62472047 0.6330555  0.64728603 0.6574507\n",
            " 0.66761537 0.66720878 0.64159382 0.62776987 0.63651149 0.63630819\n",
            " 0.62980281 0.62817646 0.63813783 0.65358813 0.63183574 0.57653995\n",
            " 0.57816629 0.57613336 0.61943484 0.57979264 0.57288067 0.62573694\n",
            " 0.63102257 0.6361049  0.62776987 0.6269567  0.63590161 0.62594023\n",
            " 0.6391543  0.62614353 0.62268754 0.57050717 0.49828815 0.41380683\n",
            " 0.3440271  0.28805014 0.25342962 0.24245262 0.24104372 0.24395737\n",
            " 0.24943224 0.2549181  0.25882244 0.2604923 ]\n",
            "13 day output [[0.2598216]]\n",
            "14 day input [0.72941655 0.73144948 0.74486684 0.76926205 0.75991055 0.74242732\n",
            " 0.73958122 0.74771295 0.75991055 0.7584875  0.76621264 0.75462492\n",
            " 0.76316324 0.79670665 0.80585485 0.7889815  0.78003659 0.73978451\n",
            " 0.73002643 0.73490547 0.74872942 0.75991055 0.75462492 0.75401504\n",
            " 0.76174019 0.7737345  0.82008538 0.80585485 0.81154706 0.77434438\n",
            " 0.78633869 0.79284407 0.78328929 0.77109169 0.74385038 0.71193332\n",
            " 0.68733482 0.67818662 0.65257166 0.64301687 0.65643423 0.67656028\n",
            " 0.67371417 0.65114861 0.65521447 0.66761537 0.67838992 0.69993901\n",
            " 0.63122586 0.63508843 0.64098394 0.64545639 0.64118723 0.63854442\n",
            " 0.63081927 0.62472047 0.6330555  0.64728603 0.6574507  0.66761537\n",
            " 0.66720878 0.64159382 0.62776987 0.63651149 0.63630819 0.62980281\n",
            " 0.62817646 0.63813783 0.65358813 0.63183574 0.57653995 0.57816629\n",
            " 0.57613336 0.61943484 0.57979264 0.57288067 0.62573694 0.63102257\n",
            " 0.6361049  0.62776987 0.6269567  0.63590161 0.62594023 0.6391543\n",
            " 0.62614353 0.62268754 0.57050717 0.49828815 0.41380683 0.3440271\n",
            " 0.28805014 0.25342962 0.24245262 0.24104372 0.24395737 0.24943224\n",
            " 0.2549181  0.25882244 0.2604923  0.25982159]\n",
            "14 day output [[0.2570433]]\n",
            "15 day input [0.73144948 0.74486684 0.76926205 0.75991055 0.74242732 0.73958122\n",
            " 0.74771295 0.75991055 0.7584875  0.76621264 0.75462492 0.76316324\n",
            " 0.79670665 0.80585485 0.7889815  0.78003659 0.73978451 0.73002643\n",
            " 0.73490547 0.74872942 0.75991055 0.75462492 0.75401504 0.76174019\n",
            " 0.7737345  0.82008538 0.80585485 0.81154706 0.77434438 0.78633869\n",
            " 0.79284407 0.78328929 0.77109169 0.74385038 0.71193332 0.68733482\n",
            " 0.67818662 0.65257166 0.64301687 0.65643423 0.67656028 0.67371417\n",
            " 0.65114861 0.65521447 0.66761537 0.67838992 0.69993901 0.63122586\n",
            " 0.63508843 0.64098394 0.64545639 0.64118723 0.63854442 0.63081927\n",
            " 0.62472047 0.6330555  0.64728603 0.6574507  0.66761537 0.66720878\n",
            " 0.64159382 0.62776987 0.63651149 0.63630819 0.62980281 0.62817646\n",
            " 0.63813783 0.65358813 0.63183574 0.57653995 0.57816629 0.57613336\n",
            " 0.61943484 0.57979264 0.57288067 0.62573694 0.63102257 0.6361049\n",
            " 0.62776987 0.6269567  0.63590161 0.62594023 0.6391543  0.62614353\n",
            " 0.62268754 0.57050717 0.49828815 0.41380683 0.3440271  0.28805014\n",
            " 0.25342962 0.24245262 0.24104372 0.24395737 0.24943224 0.2549181\n",
            " 0.25882244 0.2604923  0.25982159 0.2570433 ]\n",
            "15 day output [[0.25260484]]\n",
            "16 day input [0.74486684 0.76926205 0.75991055 0.74242732 0.73958122 0.74771295\n",
            " 0.75991055 0.7584875  0.76621264 0.75462492 0.76316324 0.79670665\n",
            " 0.80585485 0.7889815  0.78003659 0.73978451 0.73002643 0.73490547\n",
            " 0.74872942 0.75991055 0.75462492 0.75401504 0.76174019 0.7737345\n",
            " 0.82008538 0.80585485 0.81154706 0.77434438 0.78633869 0.79284407\n",
            " 0.78328929 0.77109169 0.74385038 0.71193332 0.68733482 0.67818662\n",
            " 0.65257166 0.64301687 0.65643423 0.67656028 0.67371417 0.65114861\n",
            " 0.65521447 0.66761537 0.67838992 0.69993901 0.63122586 0.63508843\n",
            " 0.64098394 0.64545639 0.64118723 0.63854442 0.63081927 0.62472047\n",
            " 0.6330555  0.64728603 0.6574507  0.66761537 0.66720878 0.64159382\n",
            " 0.62776987 0.63651149 0.63630819 0.62980281 0.62817646 0.63813783\n",
            " 0.65358813 0.63183574 0.57653995 0.57816629 0.57613336 0.61943484\n",
            " 0.57979264 0.57288067 0.62573694 0.63102257 0.6361049  0.62776987\n",
            " 0.6269567  0.63590161 0.62594023 0.6391543  0.62614353 0.62268754\n",
            " 0.57050717 0.49828815 0.41380683 0.3440271  0.28805014 0.25342962\n",
            " 0.24245262 0.24104372 0.24395737 0.24943224 0.2549181  0.25882244\n",
            " 0.2604923  0.25982159 0.2570433  0.25260484]\n",
            "16 day output [[0.24705659]]\n",
            "17 day input [0.76926205 0.75991055 0.74242732 0.73958122 0.74771295 0.75991055\n",
            " 0.7584875  0.76621264 0.75462492 0.76316324 0.79670665 0.80585485\n",
            " 0.7889815  0.78003659 0.73978451 0.73002643 0.73490547 0.74872942\n",
            " 0.75991055 0.75462492 0.75401504 0.76174019 0.7737345  0.82008538\n",
            " 0.80585485 0.81154706 0.77434438 0.78633869 0.79284407 0.78328929\n",
            " 0.77109169 0.74385038 0.71193332 0.68733482 0.67818662 0.65257166\n",
            " 0.64301687 0.65643423 0.67656028 0.67371417 0.65114861 0.65521447\n",
            " 0.66761537 0.67838992 0.69993901 0.63122586 0.63508843 0.64098394\n",
            " 0.64545639 0.64118723 0.63854442 0.63081927 0.62472047 0.6330555\n",
            " 0.64728603 0.6574507  0.66761537 0.66720878 0.64159382 0.62776987\n",
            " 0.63651149 0.63630819 0.62980281 0.62817646 0.63813783 0.65358813\n",
            " 0.63183574 0.57653995 0.57816629 0.57613336 0.61943484 0.57979264\n",
            " 0.57288067 0.62573694 0.63102257 0.6361049  0.62776987 0.6269567\n",
            " 0.63590161 0.62594023 0.6391543  0.62614353 0.62268754 0.57050717\n",
            " 0.49828815 0.41380683 0.3440271  0.28805014 0.25342962 0.24245262\n",
            " 0.24104372 0.24395737 0.24943224 0.2549181  0.25882244 0.2604923\n",
            " 0.25982159 0.2570433  0.25260484 0.24705659]\n",
            "17 day output [[0.24095249]]\n",
            "18 day input [0.75991055 0.74242732 0.73958122 0.74771295 0.75991055 0.7584875\n",
            " 0.76621264 0.75462492 0.76316324 0.79670665 0.80585485 0.7889815\n",
            " 0.78003659 0.73978451 0.73002643 0.73490547 0.74872942 0.75991055\n",
            " 0.75462492 0.75401504 0.76174019 0.7737345  0.82008538 0.80585485\n",
            " 0.81154706 0.77434438 0.78633869 0.79284407 0.78328929 0.77109169\n",
            " 0.74385038 0.71193332 0.68733482 0.67818662 0.65257166 0.64301687\n",
            " 0.65643423 0.67656028 0.67371417 0.65114861 0.65521447 0.66761537\n",
            " 0.67838992 0.69993901 0.63122586 0.63508843 0.64098394 0.64545639\n",
            " 0.64118723 0.63854442 0.63081927 0.62472047 0.6330555  0.64728603\n",
            " 0.6574507  0.66761537 0.66720878 0.64159382 0.62776987 0.63651149\n",
            " 0.63630819 0.62980281 0.62817646 0.63813783 0.65358813 0.63183574\n",
            " 0.57653995 0.57816629 0.57613336 0.61943484 0.57979264 0.57288067\n",
            " 0.62573694 0.63102257 0.6361049  0.62776987 0.6269567  0.63590161\n",
            " 0.62594023 0.6391543  0.62614353 0.62268754 0.57050717 0.49828815\n",
            " 0.41380683 0.3440271  0.28805014 0.25342962 0.24245262 0.24104372\n",
            " 0.24395737 0.24943224 0.2549181  0.25882244 0.2604923  0.25982159\n",
            " 0.2570433  0.25260484 0.24705659 0.24095249]\n",
            "18 day output [[0.23477095]]\n",
            "19 day input [0.74242732 0.73958122 0.74771295 0.75991055 0.7584875  0.76621264\n",
            " 0.75462492 0.76316324 0.79670665 0.80585485 0.7889815  0.78003659\n",
            " 0.73978451 0.73002643 0.73490547 0.74872942 0.75991055 0.75462492\n",
            " 0.75401504 0.76174019 0.7737345  0.82008538 0.80585485 0.81154706\n",
            " 0.77434438 0.78633869 0.79284407 0.78328929 0.77109169 0.74385038\n",
            " 0.71193332 0.68733482 0.67818662 0.65257166 0.64301687 0.65643423\n",
            " 0.67656028 0.67371417 0.65114861 0.65521447 0.66761537 0.67838992\n",
            " 0.69993901 0.63122586 0.63508843 0.64098394 0.64545639 0.64118723\n",
            " 0.63854442 0.63081927 0.62472047 0.6330555  0.64728603 0.6574507\n",
            " 0.66761537 0.66720878 0.64159382 0.62776987 0.63651149 0.63630819\n",
            " 0.62980281 0.62817646 0.63813783 0.65358813 0.63183574 0.57653995\n",
            " 0.57816629 0.57613336 0.61943484 0.57979264 0.57288067 0.62573694\n",
            " 0.63102257 0.6361049  0.62776987 0.6269567  0.63590161 0.62594023\n",
            " 0.6391543  0.62614353 0.62268754 0.57050717 0.49828815 0.41380683\n",
            " 0.3440271  0.28805014 0.25342962 0.24245262 0.24104372 0.24395737\n",
            " 0.24943224 0.2549181  0.25882244 0.2604923  0.25982159 0.2570433\n",
            " 0.25260484 0.24705659 0.24095249 0.23477095]\n",
            "19 day output [[0.22886851]]\n",
            "20 day input [0.73958122 0.74771295 0.75991055 0.7584875  0.76621264 0.75462492\n",
            " 0.76316324 0.79670665 0.80585485 0.7889815  0.78003659 0.73978451\n",
            " 0.73002643 0.73490547 0.74872942 0.75991055 0.75462492 0.75401504\n",
            " 0.76174019 0.7737345  0.82008538 0.80585485 0.81154706 0.77434438\n",
            " 0.78633869 0.79284407 0.78328929 0.77109169 0.74385038 0.71193332\n",
            " 0.68733482 0.67818662 0.65257166 0.64301687 0.65643423 0.67656028\n",
            " 0.67371417 0.65114861 0.65521447 0.66761537 0.67838992 0.69993901\n",
            " 0.63122586 0.63508843 0.64098394 0.64545639 0.64118723 0.63854442\n",
            " 0.63081927 0.62472047 0.6330555  0.64728603 0.6574507  0.66761537\n",
            " 0.66720878 0.64159382 0.62776987 0.63651149 0.63630819 0.62980281\n",
            " 0.62817646 0.63813783 0.65358813 0.63183574 0.57653995 0.57816629\n",
            " 0.57613336 0.61943484 0.57979264 0.57288067 0.62573694 0.63102257\n",
            " 0.6361049  0.62776987 0.6269567  0.63590161 0.62594023 0.6391543\n",
            " 0.62614353 0.62268754 0.57050717 0.49828815 0.41380683 0.3440271\n",
            " 0.28805014 0.25342962 0.24245262 0.24104372 0.24395737 0.24943224\n",
            " 0.2549181  0.25882244 0.2604923  0.25982159 0.2570433  0.25260484\n",
            " 0.24705659 0.24095249 0.23477095 0.22886851]\n",
            "20 day output [[0.22346513]]\n",
            "21 day input [0.74771295 0.75991055 0.7584875  0.76621264 0.75462492 0.76316324\n",
            " 0.79670665 0.80585485 0.7889815  0.78003659 0.73978451 0.73002643\n",
            " 0.73490547 0.74872942 0.75991055 0.75462492 0.75401504 0.76174019\n",
            " 0.7737345  0.82008538 0.80585485 0.81154706 0.77434438 0.78633869\n",
            " 0.79284407 0.78328929 0.77109169 0.74385038 0.71193332 0.68733482\n",
            " 0.67818662 0.65257166 0.64301687 0.65643423 0.67656028 0.67371417\n",
            " 0.65114861 0.65521447 0.66761537 0.67838992 0.69993901 0.63122586\n",
            " 0.63508843 0.64098394 0.64545639 0.64118723 0.63854442 0.63081927\n",
            " 0.62472047 0.6330555  0.64728603 0.6574507  0.66761537 0.66720878\n",
            " 0.64159382 0.62776987 0.63651149 0.63630819 0.62980281 0.62817646\n",
            " 0.63813783 0.65358813 0.63183574 0.57653995 0.57816629 0.57613336\n",
            " 0.61943484 0.57979264 0.57288067 0.62573694 0.63102257 0.6361049\n",
            " 0.62776987 0.6269567  0.63590161 0.62594023 0.6391543  0.62614353\n",
            " 0.62268754 0.57050717 0.49828815 0.41380683 0.3440271  0.28805014\n",
            " 0.25342962 0.24245262 0.24104372 0.24395737 0.24943224 0.2549181\n",
            " 0.25882244 0.2604923  0.25982159 0.2570433  0.25260484 0.24705659\n",
            " 0.24095249 0.23477095 0.22886851 0.22346513]\n",
            "21 day output [[0.21865697]]\n",
            "22 day input [0.75991055 0.7584875  0.76621264 0.75462492 0.76316324 0.79670665\n",
            " 0.80585485 0.7889815  0.78003659 0.73978451 0.73002643 0.73490547\n",
            " 0.74872942 0.75991055 0.75462492 0.75401504 0.76174019 0.7737345\n",
            " 0.82008538 0.80585485 0.81154706 0.77434438 0.78633869 0.79284407\n",
            " 0.78328929 0.77109169 0.74385038 0.71193332 0.68733482 0.67818662\n",
            " 0.65257166 0.64301687 0.65643423 0.67656028 0.67371417 0.65114861\n",
            " 0.65521447 0.66761537 0.67838992 0.69993901 0.63122586 0.63508843\n",
            " 0.64098394 0.64545639 0.64118723 0.63854442 0.63081927 0.62472047\n",
            " 0.6330555  0.64728603 0.6574507  0.66761537 0.66720878 0.64159382\n",
            " 0.62776987 0.63651149 0.63630819 0.62980281 0.62817646 0.63813783\n",
            " 0.65358813 0.63183574 0.57653995 0.57816629 0.57613336 0.61943484\n",
            " 0.57979264 0.57288067 0.62573694 0.63102257 0.6361049  0.62776987\n",
            " 0.6269567  0.63590161 0.62594023 0.6391543  0.62614353 0.62268754\n",
            " 0.57050717 0.49828815 0.41380683 0.3440271  0.28805014 0.25342962\n",
            " 0.24245262 0.24104372 0.24395737 0.24943224 0.2549181  0.25882244\n",
            " 0.2604923  0.25982159 0.2570433  0.25260484 0.24705659 0.24095249\n",
            " 0.23477095 0.22886851 0.22346513 0.21865697]\n",
            "22 day output [[0.21444415]]\n",
            "23 day input [0.7584875  0.76621264 0.75462492 0.76316324 0.79670665 0.80585485\n",
            " 0.7889815  0.78003659 0.73978451 0.73002643 0.73490547 0.74872942\n",
            " 0.75991055 0.75462492 0.75401504 0.76174019 0.7737345  0.82008538\n",
            " 0.80585485 0.81154706 0.77434438 0.78633869 0.79284407 0.78328929\n",
            " 0.77109169 0.74385038 0.71193332 0.68733482 0.67818662 0.65257166\n",
            " 0.64301687 0.65643423 0.67656028 0.67371417 0.65114861 0.65521447\n",
            " 0.66761537 0.67838992 0.69993901 0.63122586 0.63508843 0.64098394\n",
            " 0.64545639 0.64118723 0.63854442 0.63081927 0.62472047 0.6330555\n",
            " 0.64728603 0.6574507  0.66761537 0.66720878 0.64159382 0.62776987\n",
            " 0.63651149 0.63630819 0.62980281 0.62817646 0.63813783 0.65358813\n",
            " 0.63183574 0.57653995 0.57816629 0.57613336 0.61943484 0.57979264\n",
            " 0.57288067 0.62573694 0.63102257 0.6361049  0.62776987 0.6269567\n",
            " 0.63590161 0.62594023 0.6391543  0.62614353 0.62268754 0.57050717\n",
            " 0.49828815 0.41380683 0.3440271  0.28805014 0.25342962 0.24245262\n",
            " 0.24104372 0.24395737 0.24943224 0.2549181  0.25882244 0.2604923\n",
            " 0.25982159 0.2570433  0.25260484 0.24705659 0.24095249 0.23477095\n",
            " 0.22886851 0.22346513 0.21865697 0.21444415]\n",
            "23 day output [[0.21076313]]\n",
            "24 day input [0.76621264 0.75462492 0.76316324 0.79670665 0.80585485 0.7889815\n",
            " 0.78003659 0.73978451 0.73002643 0.73490547 0.74872942 0.75991055\n",
            " 0.75462492 0.75401504 0.76174019 0.7737345  0.82008538 0.80585485\n",
            " 0.81154706 0.77434438 0.78633869 0.79284407 0.78328929 0.77109169\n",
            " 0.74385038 0.71193332 0.68733482 0.67818662 0.65257166 0.64301687\n",
            " 0.65643423 0.67656028 0.67371417 0.65114861 0.65521447 0.66761537\n",
            " 0.67838992 0.69993901 0.63122586 0.63508843 0.64098394 0.64545639\n",
            " 0.64118723 0.63854442 0.63081927 0.62472047 0.6330555  0.64728603\n",
            " 0.6574507  0.66761537 0.66720878 0.64159382 0.62776987 0.63651149\n",
            " 0.63630819 0.62980281 0.62817646 0.63813783 0.65358813 0.63183574\n",
            " 0.57653995 0.57816629 0.57613336 0.61943484 0.57979264 0.57288067\n",
            " 0.62573694 0.63102257 0.6361049  0.62776987 0.6269567  0.63590161\n",
            " 0.62594023 0.6391543  0.62614353 0.62268754 0.57050717 0.49828815\n",
            " 0.41380683 0.3440271  0.28805014 0.25342962 0.24245262 0.24104372\n",
            " 0.24395737 0.24943224 0.2549181  0.25882244 0.2604923  0.25982159\n",
            " 0.2570433  0.25260484 0.24705659 0.24095249 0.23477095 0.22886851\n",
            " 0.22346513 0.21865697 0.21444415 0.21076313]\n",
            "24 day output [[0.20751745]]\n",
            "25 day input [0.75462492 0.76316324 0.79670665 0.80585485 0.7889815  0.78003659\n",
            " 0.73978451 0.73002643 0.73490547 0.74872942 0.75991055 0.75462492\n",
            " 0.75401504 0.76174019 0.7737345  0.82008538 0.80585485 0.81154706\n",
            " 0.77434438 0.78633869 0.79284407 0.78328929 0.77109169 0.74385038\n",
            " 0.71193332 0.68733482 0.67818662 0.65257166 0.64301687 0.65643423\n",
            " 0.67656028 0.67371417 0.65114861 0.65521447 0.66761537 0.67838992\n",
            " 0.69993901 0.63122586 0.63508843 0.64098394 0.64545639 0.64118723\n",
            " 0.63854442 0.63081927 0.62472047 0.6330555  0.64728603 0.6574507\n",
            " 0.66761537 0.66720878 0.64159382 0.62776987 0.63651149 0.63630819\n",
            " 0.62980281 0.62817646 0.63813783 0.65358813 0.63183574 0.57653995\n",
            " 0.57816629 0.57613336 0.61943484 0.57979264 0.57288067 0.62573694\n",
            " 0.63102257 0.6361049  0.62776987 0.6269567  0.63590161 0.62594023\n",
            " 0.6391543  0.62614353 0.62268754 0.57050717 0.49828815 0.41380683\n",
            " 0.3440271  0.28805014 0.25342962 0.24245262 0.24104372 0.24395737\n",
            " 0.24943224 0.2549181  0.25882244 0.2604923  0.25982159 0.2570433\n",
            " 0.25260484 0.24705659 0.24095249 0.23477095 0.22886851 0.22346513\n",
            " 0.21865697 0.21444415 0.21076313 0.20751745]\n",
            "25 day output [[0.2046019]]\n",
            "26 day input [0.76316324 0.79670665 0.80585485 0.7889815  0.78003659 0.73978451\n",
            " 0.73002643 0.73490547 0.74872942 0.75991055 0.75462492 0.75401504\n",
            " 0.76174019 0.7737345  0.82008538 0.80585485 0.81154706 0.77434438\n",
            " 0.78633869 0.79284407 0.78328929 0.77109169 0.74385038 0.71193332\n",
            " 0.68733482 0.67818662 0.65257166 0.64301687 0.65643423 0.67656028\n",
            " 0.67371417 0.65114861 0.65521447 0.66761537 0.67838992 0.69993901\n",
            " 0.63122586 0.63508843 0.64098394 0.64545639 0.64118723 0.63854442\n",
            " 0.63081927 0.62472047 0.6330555  0.64728603 0.6574507  0.66761537\n",
            " 0.66720878 0.64159382 0.62776987 0.63651149 0.63630819 0.62980281\n",
            " 0.62817646 0.63813783 0.65358813 0.63183574 0.57653995 0.57816629\n",
            " 0.57613336 0.61943484 0.57979264 0.57288067 0.62573694 0.63102257\n",
            " 0.6361049  0.62776987 0.6269567  0.63590161 0.62594023 0.6391543\n",
            " 0.62614353 0.62268754 0.57050717 0.49828815 0.41380683 0.3440271\n",
            " 0.28805014 0.25342962 0.24245262 0.24104372 0.24395737 0.24943224\n",
            " 0.2549181  0.25882244 0.2604923  0.25982159 0.2570433  0.25260484\n",
            " 0.24705659 0.24095249 0.23477095 0.22886851 0.22346513 0.21865697\n",
            " 0.21444415 0.21076313 0.20751745 0.2046019 ]\n",
            "26 day output [[0.20191865]]\n",
            "27 day input [0.79670665 0.80585485 0.7889815  0.78003659 0.73978451 0.73002643\n",
            " 0.73490547 0.74872942 0.75991055 0.75462492 0.75401504 0.76174019\n",
            " 0.7737345  0.82008538 0.80585485 0.81154706 0.77434438 0.78633869\n",
            " 0.79284407 0.78328929 0.77109169 0.74385038 0.71193332 0.68733482\n",
            " 0.67818662 0.65257166 0.64301687 0.65643423 0.67656028 0.67371417\n",
            " 0.65114861 0.65521447 0.66761537 0.67838992 0.69993901 0.63122586\n",
            " 0.63508843 0.64098394 0.64545639 0.64118723 0.63854442 0.63081927\n",
            " 0.62472047 0.6330555  0.64728603 0.6574507  0.66761537 0.66720878\n",
            " 0.64159382 0.62776987 0.63651149 0.63630819 0.62980281 0.62817646\n",
            " 0.63813783 0.65358813 0.63183574 0.57653995 0.57816629 0.57613336\n",
            " 0.61943484 0.57979264 0.57288067 0.62573694 0.63102257 0.6361049\n",
            " 0.62776987 0.6269567  0.63590161 0.62594023 0.6391543  0.62614353\n",
            " 0.62268754 0.57050717 0.49828815 0.41380683 0.3440271  0.28805014\n",
            " 0.25342962 0.24245262 0.24104372 0.24395737 0.24943224 0.2549181\n",
            " 0.25882244 0.2604923  0.25982159 0.2570433  0.25260484 0.24705659\n",
            " 0.24095249 0.23477095 0.22886851 0.22346513 0.21865697 0.21444415\n",
            " 0.21076313 0.20751745 0.2046019  0.20191865]\n",
            "27 day output [[0.19938652]]\n",
            "[[0.5705071687698364], [0.4982881546020508], [0.41380682587623596], [0.3440271019935608], [0.2880501449108124], [0.2534296214580536], [0.24245262145996094], [0.24104371666908264], [0.24395737051963806], [0.24943223595619202], [0.25491809844970703], [0.2588224411010742], [0.2604922950267792], [0.2598215937614441], [0.2570433020591736], [0.2526048421859741], [0.24705658853054047], [0.2409524917602539], [0.23477095365524292], [0.2288685142993927], [0.22346512973308563], [0.2186569720506668], [0.2144441455602646], [0.2107631266117096], [0.20751744508743286], [0.20460189878940582], [0.20191864669322968], [0.19938652217388153]]\n"
          ]
        }
      ],
      "source": [
        "temp_input = list(x_input)\n",
        "temp_input = temp_input[0].tolist()\n",
        "\n",
        "lst_output=[]\n",
        "n_steps=100\n",
        "nextNumberOfDays = 28\n",
        "i=0\n",
        "\n",
        "while(i<nextNumberOfDays):\n",
        "    \n",
        "    if(len(temp_input)>100):\n",
        "        x_input=np.array(temp_input[1:])\n",
        "        print(\"{} day input {}\".format(i,x_input))\n",
        "        x_input=x_input.reshape(1,-1)\n",
        "        x_input = x_input.reshape((1, n_steps, 1))\n",
        "        yhat = model.predict(x_input, verbose=0)\n",
        "        print(\"{} day output {}\".format(i,yhat))\n",
        "        temp_input.extend(yhat[0].tolist())\n",
        "        temp_input=temp_input[1:]\n",
        "        lst_output.extend(yhat.tolist())\n",
        "        i=i+1\n",
        "    else:\n",
        "        x_input = x_input.reshape((1, n_steps,1))\n",
        "        yhat = model.predict(x_input, verbose=0)\n",
        "        print(yhat[0])\n",
        "        temp_input.extend(yhat[0].tolist())\n",
        "        print(len(temp_input))\n",
        "        lst_output.extend(yhat.tolist())\n",
        "        i=i+1\n",
        "    \n",
        "print(lst_output)"
      ]
    },
    {
      "cell_type": "code",
      "execution_count": null,
      "metadata": {
        "id": "RNITzFLdoTyY"
      },
      "outputs": [],
      "source": [
        "day_new = np.arange(1,101)\n",
        "day_pred = np.arange(101,129)"
      ]
    },
    {
      "cell_type": "code",
      "execution_count": null,
      "metadata": {
        "colab": {
          "base_uri": "https://localhost:8080/"
        },
        "id": "L8R1-QMgoTyZ",
        "outputId": "b72640dd-690b-4e01-de07-d9d04d82e55b"
      },
      "outputs": [
        {
          "output_type": "execute_result",
          "data": {
            "text/plain": [
              "(100,)"
            ]
          },
          "metadata": {},
          "execution_count": 36
        }
      ],
      "source": [
        "day_new.shape"
      ]
    },
    {
      "cell_type": "code",
      "execution_count": null,
      "metadata": {
        "colab": {
          "base_uri": "https://localhost:8080/"
        },
        "id": "hX69E8kfoTyZ",
        "outputId": "0e6ac496-b318-4ae4-a0f3-86e0df987092"
      },
      "outputs": [
        {
          "output_type": "execute_result",
          "data": {
            "text/plain": [
              "(28,)"
            ]
          },
          "metadata": {},
          "execution_count": 37
        }
      ],
      "source": [
        "day_pred.shape"
      ]
    },
    {
      "cell_type": "code",
      "execution_count": null,
      "metadata": {
        "colab": {
          "base_uri": "https://localhost:8080/"
        },
        "id": "IWJ9Hf3GoTyZ",
        "outputId": "192af373-73f9-4f1e-e2df-4e2723250c2c"
      },
      "outputs": [
        {
          "output_type": "execute_result",
          "data": {
            "text/plain": [
              "2035"
            ]
          },
          "metadata": {},
          "execution_count": 38
        }
      ],
      "source": [
        "len(df_high)"
      ]
    },
    {
      "cell_type": "code",
      "execution_count": null,
      "metadata": {
        "colab": {
          "base_uri": "https://localhost:8080/",
          "height": 282
        },
        "id": "VL2xVwJpoTyZ",
        "outputId": "c8d6b9a2-8b8b-4cf2-b06d-7408a1e90d38"
      },
      "outputs": [
        {
          "output_type": "execute_result",
          "data": {
            "text/plain": [
              "[<matplotlib.lines.Line2D at 0x7f9677df9f70>]"
            ]
          },
          "metadata": {},
          "execution_count": 39
        },
        {
          "output_type": "display_data",
          "data": {
            "text/plain": [
              "<Figure size 432x288 with 1 Axes>"
            ],
            "image/png": "[encoded data removed]"
          },
          "metadata": {
            "needs_background": "light"
          }
        }
      ],
      "source": [
        "plt.plot(day_new, scaler.inverse_transform(df_high[1935:]))\n",
        "plt.plot(day_pred, scaler.inverse_transform(lst_output))"
      ]
    },
    {
      "cell_type": "code",
      "execution_count": null,
      "metadata": {
        "colab": {
          "base_uri": "https://localhost:8080/",
          "height": 282
        },
        "id": "WvP_cIHCoTyZ",
        "outputId": "725fc608-ba28-4c54-c79f-d43dd5ab458f"
      },
      "outputs": [
        {
          "output_type": "execute_result",
          "data": {
            "text/plain": [
              "[<matplotlib.lines.Line2D at 0x7f9677de0340>]"
            ]
          },
          "metadata": {},
          "execution_count": 40
        },
        {
          "output_type": "display_data",
          "data": {
            "text/plain": [
              "<Figure size 432x288 with 1 Axes>"
            ],
            "image/png": "[encoded data removed]"
          },
          "metadata": {
            "needs_background": "light"
          }
        }
      ],
      "source": [
        "data_new = df_high.tolist()\n",
        "data_new.extend(lst_output)\n",
        "plt.plot(data_new[2000:])"
      ]
    },
    {
      "cell_type": "code",
      "execution_count": null,
      "metadata": {
        "id": "9F-THDdHoTyZ"
      },
      "outputs": [],
      "source": [
        "data_new =scaler.inverse_transform(data_new).tolist()"
      ]
    },
    {
      "cell_type": "code",
      "execution_count": null,
      "metadata": {
        "colab": {
          "base_uri": "https://localhost:8080/",
          "height": 282
        },
        "id": "0VyZczaPoTyZ",
        "outputId": "1dee7829-bbbc-47ba-f79a-34ae21cc752c"
      },
      "outputs": [
        {
          "output_type": "execute_result",
          "data": {
            "text/plain": [
              "[<matplotlib.lines.Line2D at 0x7f9677e68490>]"
            ]
          },
          "metadata": {},
          "execution_count": 42
        },
        {
          "output_type": "display_data",
          "data": {
            "text/plain": [
              "<Figure size 432x288 with 1 Axes>"
            ],
            "image/png": "[encoded data removed]"
          },
          "metadata": {
            "needs_background": "light"
          }
        }
      ],
      "source": [
        "plt.plot(data_new)"
      ]
    }
  ],
  "metadata": {
    "colab": {
      "provenance": []
    },
    "kernelspec": {
      "display_name": "Python 3",
      "language": "python",
      "name": "python3"
    },
    "language_info": {
      "codemirror_mode": {
        "name": "ipython",
        "version": 3
      },
      "file_extension": ".py",
      "mimetype": "text/x-python",
      "name": "python",
      "nbconvert_exporter": "python",
      "pygments_lexer": "ipython3",
      "version": "3.6.4"
    }
  },
  "nbformat": 4,
  "nbformat_minor": 0
}